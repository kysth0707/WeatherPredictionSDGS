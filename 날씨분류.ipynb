{
  "cells": [
    {
      "cell_type": "code",
      "execution_count": 1,
      "metadata": {
        "colab": {
          "base_uri": "https://localhost:8080/"
        },
        "id": "OYb0jORGPccO",
        "outputId": "e2af640c-ca60-4773-812d-75e27b006ffd"
      },
      "outputs": [],
      "source": [
        "# from google.colab import drive\n",
        "# drive.mount('/content/drive')"
      ]
    },
    {
      "cell_type": "code",
      "execution_count": 2,
      "metadata": {
        "id": "ImeqId5mPbhX"
      },
      "outputs": [],
      "source": [
        "import pandas as pd\n",
        "import numpy as np"
      ]
    },
    {
      "cell_type": "code",
      "execution_count": 3,
      "metadata": {
        "id": "ef_3MR7PPbhb"
      },
      "outputs": [],
      "source": [
        "# df = pd.read_csv('/content/drive/MyDrive/hour_dataset.csv', encoding='EUC-KR')\n",
        "df = pd.read_csv('./hour_dataset.csv', encoding='EUC-KR')"
      ]
    },
    {
      "cell_type": "code",
      "execution_count": 4,
      "metadata": {
        "colab": {
          "base_uri": "https://localhost:8080/",
          "height": 461
        },
        "id": "ZpAItq-BPbhb",
        "outputId": "b89b2216-3a09-4f9a-832d-9f19aa940c76"
      },
      "outputs": [
        {
          "data": {
            "text/html": [
              "<div>\n",
              "<style scoped>\n",
              "    .dataframe tbody tr th:only-of-type {\n",
              "        vertical-align: middle;\n",
              "    }\n",
              "\n",
              "    .dataframe tbody tr th {\n",
              "        vertical-align: top;\n",
              "    }\n",
              "\n",
              "    .dataframe thead th {\n",
              "        text-align: right;\n",
              "    }\n",
              "</style>\n",
              "<table border=\"1\" class=\"dataframe\">\n",
              "  <thead>\n",
              "    <tr style=\"text-align: right;\">\n",
              "      <th></th>\n",
              "      <th>지점</th>\n",
              "      <th>일시</th>\n",
              "      <th>기온(°C)</th>\n",
              "      <th>강수량(mm)</th>\n",
              "      <th>풍속(m/s)</th>\n",
              "      <th>풍향(16방위)</th>\n",
              "      <th>습도(%)</th>\n",
              "      <th>증기압(hPa)</th>\n",
              "      <th>이슬점온도(°C)</th>\n",
              "      <th>현지기압(hPa)</th>\n",
              "      <th>...</th>\n",
              "      <th>운형(운형약어)</th>\n",
              "      <th>최저운고(100m )</th>\n",
              "      <th>시정(10m)</th>\n",
              "      <th>지면상태(지면상태코드)</th>\n",
              "      <th>현상번호(국내식)</th>\n",
              "      <th>지면온도(°C)</th>\n",
              "      <th>5cm 지중온도(°C)</th>\n",
              "      <th>10cm 지중온도(°C)</th>\n",
              "      <th>20cm 지중온도(°C)</th>\n",
              "      <th>30cm 지중온도(°C)</th>\n",
              "    </tr>\n",
              "  </thead>\n",
              "  <tbody>\n",
              "    <tr>\n",
              "      <th>0</th>\n",
              "      <td>112</td>\n",
              "      <td>2023-01-01 00:00</td>\n",
              "      <td>3.0</td>\n",
              "      <td>NaN</td>\n",
              "      <td>4.6</td>\n",
              "      <td>230</td>\n",
              "      <td>62</td>\n",
              "      <td>4.7</td>\n",
              "      <td>-3.5</td>\n",
              "      <td>1020.8</td>\n",
              "      <td>...</td>\n",
              "      <td>NaN</td>\n",
              "      <td>NaN</td>\n",
              "      <td>872</td>\n",
              "      <td>NaN</td>\n",
              "      <td>40.0</td>\n",
              "      <td>-0.6</td>\n",
              "      <td>-0.1</td>\n",
              "      <td>-0.2</td>\n",
              "      <td>0.5</td>\n",
              "      <td>1.5</td>\n",
              "    </tr>\n",
              "    <tr>\n",
              "      <th>1</th>\n",
              "      <td>112</td>\n",
              "      <td>2023-01-01 01:00</td>\n",
              "      <td>3.2</td>\n",
              "      <td>NaN</td>\n",
              "      <td>5.1</td>\n",
              "      <td>250</td>\n",
              "      <td>64</td>\n",
              "      <td>4.9</td>\n",
              "      <td>-2.9</td>\n",
              "      <td>1020.5</td>\n",
              "      <td>...</td>\n",
              "      <td>NaN</td>\n",
              "      <td>15.0</td>\n",
              "      <td>793</td>\n",
              "      <td>NaN</td>\n",
              "      <td>40.0</td>\n",
              "      <td>-0.6</td>\n",
              "      <td>-0.1</td>\n",
              "      <td>-0.1</td>\n",
              "      <td>0.5</td>\n",
              "      <td>1.5</td>\n",
              "    </tr>\n",
              "    <tr>\n",
              "      <th>2</th>\n",
              "      <td>112</td>\n",
              "      <td>2023-01-01 02:00</td>\n",
              "      <td>2.8</td>\n",
              "      <td>NaN</td>\n",
              "      <td>4.1</td>\n",
              "      <td>270</td>\n",
              "      <td>70</td>\n",
              "      <td>5.2</td>\n",
              "      <td>-2.1</td>\n",
              "      <td>1020.4</td>\n",
              "      <td>...</td>\n",
              "      <td>NaN</td>\n",
              "      <td>12.0</td>\n",
              "      <td>618</td>\n",
              "      <td>NaN</td>\n",
              "      <td>40.0</td>\n",
              "      <td>-1.0</td>\n",
              "      <td>-0.1</td>\n",
              "      <td>-0.1</td>\n",
              "      <td>0.5</td>\n",
              "      <td>1.6</td>\n",
              "    </tr>\n",
              "    <tr>\n",
              "      <th>3</th>\n",
              "      <td>112</td>\n",
              "      <td>2023-01-01 03:00</td>\n",
              "      <td>2.3</td>\n",
              "      <td>NaN</td>\n",
              "      <td>2.8</td>\n",
              "      <td>320</td>\n",
              "      <td>71</td>\n",
              "      <td>5.1</td>\n",
              "      <td>-2.4</td>\n",
              "      <td>1020.6</td>\n",
              "      <td>...</td>\n",
              "      <td>Sc</td>\n",
              "      <td>10.0</td>\n",
              "      <td>545</td>\n",
              "      <td>NaN</td>\n",
              "      <td>40.0</td>\n",
              "      <td>-0.8</td>\n",
              "      <td>0.0</td>\n",
              "      <td>-0.1</td>\n",
              "      <td>0.5</td>\n",
              "      <td>1.5</td>\n",
              "    </tr>\n",
              "    <tr>\n",
              "      <th>4</th>\n",
              "      <td>112</td>\n",
              "      <td>2023-01-01 04:00</td>\n",
              "      <td>1.3</td>\n",
              "      <td>NaN</td>\n",
              "      <td>3.3</td>\n",
              "      <td>340</td>\n",
              "      <td>73</td>\n",
              "      <td>4.9</td>\n",
              "      <td>-3.0</td>\n",
              "      <td>1020.7</td>\n",
              "      <td>...</td>\n",
              "      <td>Sc</td>\n",
              "      <td>10.0</td>\n",
              "      <td>588</td>\n",
              "      <td>NaN</td>\n",
              "      <td>40.0</td>\n",
              "      <td>-0.9</td>\n",
              "      <td>-0.1</td>\n",
              "      <td>-0.2</td>\n",
              "      <td>0.5</td>\n",
              "      <td>1.5</td>\n",
              "    </tr>\n",
              "  </tbody>\n",
              "</table>\n",
              "<p>5 rows × 27 columns</p>\n",
              "</div>"
            ],
            "text/plain": [
              "    지점                일시  기온(°C)  강수량(mm)  풍속(m/s)  풍향(16방위)  습도(%)  증기압(hPa)  \\\n",
              "0  112  2023-01-01 00:00     3.0      NaN      4.6       230     62       4.7   \n",
              "1  112  2023-01-01 01:00     3.2      NaN      5.1       250     64       4.9   \n",
              "2  112  2023-01-01 02:00     2.8      NaN      4.1       270     70       5.2   \n",
              "3  112  2023-01-01 03:00     2.3      NaN      2.8       320     71       5.1   \n",
              "4  112  2023-01-01 04:00     1.3      NaN      3.3       340     73       4.9   \n",
              "\n",
              "   이슬점온도(°C)  현지기압(hPa)  ...  운형(운형약어)  최저운고(100m )  시정(10m)  지면상태(지면상태코드)  \\\n",
              "0       -3.5     1020.8  ...       NaN          NaN      872           NaN   \n",
              "1       -2.9     1020.5  ...       NaN         15.0      793           NaN   \n",
              "2       -2.1     1020.4  ...       NaN         12.0      618           NaN   \n",
              "3       -2.4     1020.6  ...        Sc         10.0      545           NaN   \n",
              "4       -3.0     1020.7  ...        Sc         10.0      588           NaN   \n",
              "\n",
              "   현상번호(국내식)  지면온도(°C)  5cm 지중온도(°C) 10cm 지중온도(°C)  20cm 지중온도(°C)  \\\n",
              "0       40.0      -0.6          -0.1          -0.2            0.5   \n",
              "1       40.0      -0.6          -0.1          -0.1            0.5   \n",
              "2       40.0      -1.0          -0.1          -0.1            0.5   \n",
              "3       40.0      -0.8           0.0          -0.1            0.5   \n",
              "4       40.0      -0.9          -0.1          -0.2            0.5   \n",
              "\n",
              "   30cm 지중온도(°C)  \n",
              "0            1.5  \n",
              "1            1.5  \n",
              "2            1.6  \n",
              "3            1.5  \n",
              "4            1.5  \n",
              "\n",
              "[5 rows x 27 columns]"
            ]
          },
          "execution_count": 4,
          "metadata": {},
          "output_type": "execute_result"
        }
      ],
      "source": [
        "df.head()"
      ]
    },
    {
      "cell_type": "code",
      "execution_count": 5,
      "metadata": {
        "colab": {
          "base_uri": "https://localhost:8080/"
        },
        "id": "TpbcKxXTPbhc",
        "outputId": "355f2122-8e52-4170-a6b9-3c0a27279d50"
      },
      "outputs": [
        {
          "data": {
            "text/plain": [
              "Index(['지점', '일시', '기온(°C)', '강수량(mm)', '풍속(m/s)', '풍향(16방위)', '습도(%)',\n",
              "       '증기압(hPa)', '이슬점온도(°C)', '현지기압(hPa)', '해면기압(hPa)', '일조(hr)',\n",
              "       '일사(MJ/m2)', '적설(cm)', '3시간신적설(cm)', '전운량(10분위)', '중하층운량(10분위)',\n",
              "       '운형(운형약어)', '최저운고(100m )', '시정(10m)', '지면상태(지면상태코드)', '현상번호(국내식)',\n",
              "       '지면온도(°C)', '5cm 지중온도(°C)', '10cm 지중온도(°C)', '20cm 지중온도(°C)',\n",
              "       '30cm 지중온도(°C)'],\n",
              "      dtype='object')"
            ]
          },
          "execution_count": 5,
          "metadata": {},
          "output_type": "execute_result"
        }
      ],
      "source": [
        "df.keys()"
      ]
    },
    {
      "cell_type": "code",
      "execution_count": 6,
      "metadata": {
        "colab": {
          "base_uri": "https://localhost:8080/"
        },
        "id": "br9cYeVVPbhd",
        "outputId": "82559eb3-8326-4eb4-a58e-896e80ef25da"
      },
      "outputs": [
        {
          "data": {
            "text/plain": [
              "(8760, 27)"
            ]
          },
          "execution_count": 6,
          "metadata": {},
          "output_type": "execute_result"
        }
      ],
      "source": [
        "df.shape"
      ]
    },
    {
      "attachments": {},
      "cell_type": "markdown",
      "metadata": {
        "id": "q-xsjcaMPbhd"
      },
      "source": [
        "필요한 것들\n",
        "- 기온\n",
        "- 강수량\n",
        "- 풍속\n",
        "- 습도\n",
        "- 현지기압\n",
        "- 전운량\n",
        "> 나머지는 지우자"
      ]
    },
    {
      "cell_type": "code",
      "execution_count": 7,
      "metadata": {
        "id": "7g0Js4PxPbhf"
      },
      "outputs": [],
      "source": [
        "labelsToRemove = ['지점', '일시', '풍향(16방위)',\n",
        "'증기압(hPa)', '이슬점온도(°C)', '해면기압(hPa)', '일조(hr)',\n",
        "'일사(MJ/m2)', '적설(cm)', '3시간신적설(cm)', '중하층운량(10분위)',\n",
        "'운형(운형약어)', '최저운고(100m )', '시정(10m)', '지면상태(지면상태코드)', '현상번호(국내식)',\n",
        "'지면온도(°C)', '5cm 지중온도(°C)', '10cm 지중온도(°C)', '20cm 지중온도(°C)',\n",
        "'30cm 지중온도(°C)']"
      ]
    },
    {
      "cell_type": "code",
      "execution_count": 8,
      "metadata": {
        "id": "Cj1RXN9GPbhg"
      },
      "outputs": [],
      "source": [
        "for label in labelsToRemove:\n",
        "\tdf = df.drop(label, axis=1)"
      ]
    },
    {
      "cell_type": "code",
      "execution_count": 9,
      "metadata": {
        "colab": {
          "base_uri": "https://localhost:8080/",
          "height": 206
        },
        "id": "IOPDNKIePbhh",
        "outputId": "f02aa5ba-05e7-47ed-fc79-fe672401083a"
      },
      "outputs": [
        {
          "data": {
            "text/html": [
              "<div>\n",
              "<style scoped>\n",
              "    .dataframe tbody tr th:only-of-type {\n",
              "        vertical-align: middle;\n",
              "    }\n",
              "\n",
              "    .dataframe tbody tr th {\n",
              "        vertical-align: top;\n",
              "    }\n",
              "\n",
              "    .dataframe thead th {\n",
              "        text-align: right;\n",
              "    }\n",
              "</style>\n",
              "<table border=\"1\" class=\"dataframe\">\n",
              "  <thead>\n",
              "    <tr style=\"text-align: right;\">\n",
              "      <th></th>\n",
              "      <th>기온(°C)</th>\n",
              "      <th>강수량(mm)</th>\n",
              "      <th>풍속(m/s)</th>\n",
              "      <th>습도(%)</th>\n",
              "      <th>현지기압(hPa)</th>\n",
              "      <th>전운량(10분위)</th>\n",
              "    </tr>\n",
              "  </thead>\n",
              "  <tbody>\n",
              "    <tr>\n",
              "      <th>0</th>\n",
              "      <td>3.0</td>\n",
              "      <td>NaN</td>\n",
              "      <td>4.6</td>\n",
              "      <td>62</td>\n",
              "      <td>1020.8</td>\n",
              "      <td>8</td>\n",
              "    </tr>\n",
              "    <tr>\n",
              "      <th>1</th>\n",
              "      <td>3.2</td>\n",
              "      <td>NaN</td>\n",
              "      <td>5.1</td>\n",
              "      <td>64</td>\n",
              "      <td>1020.5</td>\n",
              "      <td>7</td>\n",
              "    </tr>\n",
              "    <tr>\n",
              "      <th>2</th>\n",
              "      <td>2.8</td>\n",
              "      <td>NaN</td>\n",
              "      <td>4.1</td>\n",
              "      <td>70</td>\n",
              "      <td>1020.4</td>\n",
              "      <td>7</td>\n",
              "    </tr>\n",
              "    <tr>\n",
              "      <th>3</th>\n",
              "      <td>2.3</td>\n",
              "      <td>NaN</td>\n",
              "      <td>2.8</td>\n",
              "      <td>71</td>\n",
              "      <td>1020.6</td>\n",
              "      <td>8</td>\n",
              "    </tr>\n",
              "    <tr>\n",
              "      <th>4</th>\n",
              "      <td>1.3</td>\n",
              "      <td>NaN</td>\n",
              "      <td>3.3</td>\n",
              "      <td>73</td>\n",
              "      <td>1020.7</td>\n",
              "      <td>8</td>\n",
              "    </tr>\n",
              "  </tbody>\n",
              "</table>\n",
              "</div>"
            ],
            "text/plain": [
              "   기온(°C)  강수량(mm)  풍속(m/s)  습도(%)  현지기압(hPa)  전운량(10분위)\n",
              "0     3.0      NaN      4.6     62     1020.8          8\n",
              "1     3.2      NaN      5.1     64     1020.5          7\n",
              "2     2.8      NaN      4.1     70     1020.4          7\n",
              "3     2.3      NaN      2.8     71     1020.6          8\n",
              "4     1.3      NaN      3.3     73     1020.7          8"
            ]
          },
          "execution_count": 9,
          "metadata": {},
          "output_type": "execute_result"
        }
      ],
      "source": [
        "df.head()"
      ]
    },
    {
      "attachments": {},
      "cell_type": "markdown",
      "metadata": {
        "id": "ApAHKN_sPbhh"
      },
      "source": [
        "단위까지 붙어있으면 접근하기 귀찮으니 변경하자"
      ]
    },
    {
      "cell_type": "code",
      "execution_count": 10,
      "metadata": {
        "colab": {
          "base_uri": "https://localhost:8080/",
          "height": 206
        },
        "id": "htaj_I4hPbhh",
        "outputId": "2f4e3835-885d-4fdd-a2f5-d180a5343533"
      },
      "outputs": [
        {
          "data": {
            "text/html": [
              "<div>\n",
              "<style scoped>\n",
              "    .dataframe tbody tr th:only-of-type {\n",
              "        vertical-align: middle;\n",
              "    }\n",
              "\n",
              "    .dataframe tbody tr th {\n",
              "        vertical-align: top;\n",
              "    }\n",
              "\n",
              "    .dataframe thead th {\n",
              "        text-align: right;\n",
              "    }\n",
              "</style>\n",
              "<table border=\"1\" class=\"dataframe\">\n",
              "  <thead>\n",
              "    <tr style=\"text-align: right;\">\n",
              "      <th></th>\n",
              "      <th>기온</th>\n",
              "      <th>강수량</th>\n",
              "      <th>풍속</th>\n",
              "      <th>습도</th>\n",
              "      <th>기압</th>\n",
              "      <th>운량</th>\n",
              "    </tr>\n",
              "  </thead>\n",
              "  <tbody>\n",
              "    <tr>\n",
              "      <th>0</th>\n",
              "      <td>3.0</td>\n",
              "      <td>NaN</td>\n",
              "      <td>4.6</td>\n",
              "      <td>62</td>\n",
              "      <td>1020.8</td>\n",
              "      <td>8</td>\n",
              "    </tr>\n",
              "    <tr>\n",
              "      <th>1</th>\n",
              "      <td>3.2</td>\n",
              "      <td>NaN</td>\n",
              "      <td>5.1</td>\n",
              "      <td>64</td>\n",
              "      <td>1020.5</td>\n",
              "      <td>7</td>\n",
              "    </tr>\n",
              "    <tr>\n",
              "      <th>2</th>\n",
              "      <td>2.8</td>\n",
              "      <td>NaN</td>\n",
              "      <td>4.1</td>\n",
              "      <td>70</td>\n",
              "      <td>1020.4</td>\n",
              "      <td>7</td>\n",
              "    </tr>\n",
              "    <tr>\n",
              "      <th>3</th>\n",
              "      <td>2.3</td>\n",
              "      <td>NaN</td>\n",
              "      <td>2.8</td>\n",
              "      <td>71</td>\n",
              "      <td>1020.6</td>\n",
              "      <td>8</td>\n",
              "    </tr>\n",
              "    <tr>\n",
              "      <th>4</th>\n",
              "      <td>1.3</td>\n",
              "      <td>NaN</td>\n",
              "      <td>3.3</td>\n",
              "      <td>73</td>\n",
              "      <td>1020.7</td>\n",
              "      <td>8</td>\n",
              "    </tr>\n",
              "  </tbody>\n",
              "</table>\n",
              "</div>"
            ],
            "text/plain": [
              "    기온  강수량   풍속  습도      기압  운량\n",
              "0  3.0  NaN  4.6  62  1020.8   8\n",
              "1  3.2  NaN  5.1  64  1020.5   7\n",
              "2  2.8  NaN  4.1  70  1020.4   7\n",
              "3  2.3  NaN  2.8  71  1020.6   8\n",
              "4  1.3  NaN  3.3  73  1020.7   8"
            ]
          },
          "execution_count": 10,
          "metadata": {},
          "output_type": "execute_result"
        }
      ],
      "source": [
        "df = df.rename(\n",
        "\tcolumns = {\n",
        "\t\t\"기온(°C)\" : \"기온\",\n",
        "\t\t\"강수량(mm)\" : \"강수량\",\n",
        "\t\t\"풍속(m/s)\" : \"풍속\",\n",
        "\t\t\"습도(%)\" : \"습도\",\n",
        "\t\t\"현지기압(hPa)\" : \"기압\",\n",
        "\t\t\"전운량(10분위)\" : \"운량\"\n",
        "\t}\n",
        ")\n",
        "df.head()"
      ]
    },
    {
      "attachments": {},
      "cell_type": "markdown",
      "metadata": {
        "id": "MpCRaezwPbhi"
      },
      "source": [
        "결측값(NaN) 값을 체크해보자"
      ]
    },
    {
      "cell_type": "code",
      "execution_count": 11,
      "metadata": {
        "colab": {
          "base_uri": "https://localhost:8080/"
        },
        "id": "0Pg-dKPnPbhi",
        "outputId": "7d0f9e7a-64f4-40bf-ced8-7e72f78ed7f8"
      },
      "outputs": [
        {
          "name": "stdout",
          "output_type": "stream",
          "text": [
            "0\n",
            "7792\n",
            "0\n",
            "0\n",
            "0\n",
            "0\n"
          ]
        }
      ],
      "source": [
        "for key in df.keys():\n",
        "\tprint(sum(df[key].isna()))"
      ]
    },
    {
      "attachments": {},
      "cell_type": "markdown",
      "metadata": {
        "id": "udhajxT9Pbhi"
      },
      "source": [
        "다행히 강수량에만 결측값이 있다.\n",
        "> 그러나 강수량이 NaN 값인 것은 그냥 비가 안 온 거지 계측을 못했다는 것이 아니므로 0으로 채운다"
      ]
    },
    {
      "cell_type": "code",
      "execution_count": 12,
      "metadata": {
        "colab": {
          "base_uri": "https://localhost:8080/",
          "height": 206
        },
        "id": "p2tst1bNPbhj",
        "outputId": "d4366815-1fe8-455c-a5e9-afd4288f6402"
      },
      "outputs": [
        {
          "data": {
            "text/html": [
              "<div>\n",
              "<style scoped>\n",
              "    .dataframe tbody tr th:only-of-type {\n",
              "        vertical-align: middle;\n",
              "    }\n",
              "\n",
              "    .dataframe tbody tr th {\n",
              "        vertical-align: top;\n",
              "    }\n",
              "\n",
              "    .dataframe thead th {\n",
              "        text-align: right;\n",
              "    }\n",
              "</style>\n",
              "<table border=\"1\" class=\"dataframe\">\n",
              "  <thead>\n",
              "    <tr style=\"text-align: right;\">\n",
              "      <th></th>\n",
              "      <th>기온</th>\n",
              "      <th>강수량</th>\n",
              "      <th>풍속</th>\n",
              "      <th>습도</th>\n",
              "      <th>기압</th>\n",
              "      <th>운량</th>\n",
              "    </tr>\n",
              "  </thead>\n",
              "  <tbody>\n",
              "    <tr>\n",
              "      <th>0</th>\n",
              "      <td>3.0</td>\n",
              "      <td>0.0</td>\n",
              "      <td>4.6</td>\n",
              "      <td>62</td>\n",
              "      <td>1020.8</td>\n",
              "      <td>8</td>\n",
              "    </tr>\n",
              "    <tr>\n",
              "      <th>1</th>\n",
              "      <td>3.2</td>\n",
              "      <td>0.0</td>\n",
              "      <td>5.1</td>\n",
              "      <td>64</td>\n",
              "      <td>1020.5</td>\n",
              "      <td>7</td>\n",
              "    </tr>\n",
              "    <tr>\n",
              "      <th>2</th>\n",
              "      <td>2.8</td>\n",
              "      <td>0.0</td>\n",
              "      <td>4.1</td>\n",
              "      <td>70</td>\n",
              "      <td>1020.4</td>\n",
              "      <td>7</td>\n",
              "    </tr>\n",
              "    <tr>\n",
              "      <th>3</th>\n",
              "      <td>2.3</td>\n",
              "      <td>0.0</td>\n",
              "      <td>2.8</td>\n",
              "      <td>71</td>\n",
              "      <td>1020.6</td>\n",
              "      <td>8</td>\n",
              "    </tr>\n",
              "    <tr>\n",
              "      <th>4</th>\n",
              "      <td>1.3</td>\n",
              "      <td>0.0</td>\n",
              "      <td>3.3</td>\n",
              "      <td>73</td>\n",
              "      <td>1020.7</td>\n",
              "      <td>8</td>\n",
              "    </tr>\n",
              "  </tbody>\n",
              "</table>\n",
              "</div>"
            ],
            "text/plain": [
              "    기온  강수량   풍속  습도      기압  운량\n",
              "0  3.0  0.0  4.6  62  1020.8   8\n",
              "1  3.2  0.0  5.1  64  1020.5   7\n",
              "2  2.8  0.0  4.1  70  1020.4   7\n",
              "3  2.3  0.0  2.8  71  1020.6   8\n",
              "4  1.3  0.0  3.3  73  1020.7   8"
            ]
          },
          "execution_count": 12,
          "metadata": {},
          "output_type": "execute_result"
        }
      ],
      "source": [
        "df = df.fillna(0)\n",
        "df.head()"
      ]
    },
    {
      "attachments": {},
      "cell_type": "markdown",
      "metadata": {
        "id": "cN9KYsHuPbhj"
      },
      "source": [
        "이제 적절히 데이터의 범위를 변경하기 위해 최소 최댓값을 체크한다"
      ]
    },
    {
      "cell_type": "code",
      "execution_count": 13,
      "metadata": {
        "colab": {
          "base_uri": "https://localhost:8080/"
        },
        "id": "Fo-RqRiMPbhj",
        "outputId": "8b24b460-498a-41c4-d769-f18ed7d620b4"
      },
      "outputs": [
        {
          "name": "stdout",
          "output_type": "stream",
          "text": [
            "기온 -16.7 34.6\n",
            "강수량 0.0 30.4\n",
            "풍속 0.0 11.3\n",
            "습도 10 99\n",
            "기압 984.1 1030.1\n",
            "운량 0 10\n"
          ]
        }
      ],
      "source": [
        "for key in df.keys():\n",
        "\tprint(key, min(df[key]), max(df[key]))"
      ]
    },
    {
      "attachments": {},
      "cell_type": "markdown",
      "metadata": {
        "id": "ADpVwMlLPbhj"
      },
      "source": [
        "- 기온 | -20 ~ 40 => 0 ~ 1.\n",
        "- 강수량 | 0 => 0 / >0 => 1\n",
        "- 풍속 | 0 ~ 12. => 0 ~ 1.\n",
        "- 습도 | 0 ~ 100 => 0 ~ 1.\n",
        "- 운량 | 0 ~ 3 => 0 / 4 ~ 7 => 1\n",
        "- 기압 | 980 ~ 1050 => 0 ~ 1."
      ]
    },
    {
      "cell_type": "code",
      "execution_count": 14,
      "metadata": {
        "id": "ukg2wH1-Pbhj"
      },
      "outputs": [],
      "source": [
        "df['기온'] = (df['기온'] + 20) / 60\n",
        "df['강수량'] = df['강수량'].apply(lambda x: 1 if x > 0 else 0)\n",
        "df['풍속'] = df['풍속'] / 12\n",
        "df['습도'] = df['습도'] / 100\n",
        "df['기압'] = (df['기압'] - 980) / 70\n",
        "df['운량'] = df['운량'].replace([0,1,2,3], 0).replace([4,5,6,7,8,9,10], 1)"
      ]
    },
    {
      "cell_type": "code",
      "execution_count": 15,
      "metadata": {
        "colab": {
          "base_uri": "https://localhost:8080/",
          "height": 206
        },
        "id": "W9pj-2sTPbhj",
        "outputId": "c3b6d5ab-0a4e-4737-841f-60c7c9790ed5"
      },
      "outputs": [
        {
          "data": {
            "text/html": [
              "<div>\n",
              "<style scoped>\n",
              "    .dataframe tbody tr th:only-of-type {\n",
              "        vertical-align: middle;\n",
              "    }\n",
              "\n",
              "    .dataframe tbody tr th {\n",
              "        vertical-align: top;\n",
              "    }\n",
              "\n",
              "    .dataframe thead th {\n",
              "        text-align: right;\n",
              "    }\n",
              "</style>\n",
              "<table border=\"1\" class=\"dataframe\">\n",
              "  <thead>\n",
              "    <tr style=\"text-align: right;\">\n",
              "      <th></th>\n",
              "      <th>기온</th>\n",
              "      <th>강수량</th>\n",
              "      <th>풍속</th>\n",
              "      <th>습도</th>\n",
              "      <th>기압</th>\n",
              "      <th>운량</th>\n",
              "    </tr>\n",
              "  </thead>\n",
              "  <tbody>\n",
              "    <tr>\n",
              "      <th>0</th>\n",
              "      <td>0.383333</td>\n",
              "      <td>0</td>\n",
              "      <td>0.383333</td>\n",
              "      <td>0.62</td>\n",
              "      <td>0.582857</td>\n",
              "      <td>1</td>\n",
              "    </tr>\n",
              "    <tr>\n",
              "      <th>1</th>\n",
              "      <td>0.386667</td>\n",
              "      <td>0</td>\n",
              "      <td>0.425000</td>\n",
              "      <td>0.64</td>\n",
              "      <td>0.578571</td>\n",
              "      <td>1</td>\n",
              "    </tr>\n",
              "    <tr>\n",
              "      <th>2</th>\n",
              "      <td>0.380000</td>\n",
              "      <td>0</td>\n",
              "      <td>0.341667</td>\n",
              "      <td>0.70</td>\n",
              "      <td>0.577143</td>\n",
              "      <td>1</td>\n",
              "    </tr>\n",
              "    <tr>\n",
              "      <th>3</th>\n",
              "      <td>0.371667</td>\n",
              "      <td>0</td>\n",
              "      <td>0.233333</td>\n",
              "      <td>0.71</td>\n",
              "      <td>0.580000</td>\n",
              "      <td>1</td>\n",
              "    </tr>\n",
              "    <tr>\n",
              "      <th>4</th>\n",
              "      <td>0.355000</td>\n",
              "      <td>0</td>\n",
              "      <td>0.275000</td>\n",
              "      <td>0.73</td>\n",
              "      <td>0.581429</td>\n",
              "      <td>1</td>\n",
              "    </tr>\n",
              "  </tbody>\n",
              "</table>\n",
              "</div>"
            ],
            "text/plain": [
              "         기온  강수량        풍속    습도        기압  운량\n",
              "0  0.383333    0  0.383333  0.62  0.582857   1\n",
              "1  0.386667    0  0.425000  0.64  0.578571   1\n",
              "2  0.380000    0  0.341667  0.70  0.577143   1\n",
              "3  0.371667    0  0.233333  0.71  0.580000   1\n",
              "4  0.355000    0  0.275000  0.73  0.581429   1"
            ]
          },
          "execution_count": 15,
          "metadata": {},
          "output_type": "execute_result"
        }
      ],
      "source": [
        "df.head()"
      ]
    },
    {
      "cell_type": "code",
      "execution_count": 16,
      "metadata": {
        "colab": {
          "base_uri": "https://localhost:8080/"
        },
        "id": "cLYRbx7oPbhk",
        "outputId": "d8fab3e7-2f54-4da2-f2b7-1fb25be7d7b4"
      },
      "outputs": [
        {
          "data": {
            "text/plain": [
              "array([0, 0, 0, ..., 0, 0, 0], dtype=int64)"
            ]
          },
          "execution_count": 16,
          "metadata": {},
          "output_type": "execute_result"
        }
      ],
      "source": [
        "dataY = np.array(df['강수량'])\n",
        "dataY"
      ]
    },
    {
      "cell_type": "code",
      "execution_count": 17,
      "metadata": {
        "colab": {
          "base_uri": "https://localhost:8080/"
        },
        "id": "gcM36omBPbhk",
        "outputId": "e2e071cb-813a-4f39-c7c7-4a712b0735c5"
      },
      "outputs": [
        {
          "data": {
            "text/plain": [
              "array([[0.38333333, 1.        , 0.38333333, 0.62      , 0.58285714],\n",
              "       [0.38666667, 1.        , 0.425     , 0.64      , 0.57857143],\n",
              "       [0.38      , 1.        , 0.34166667, 0.7       , 0.57714286],\n",
              "       ...,\n",
              "       [0.36166667, 0.        , 0.2       , 0.87      , 0.51857143],\n",
              "       [0.35      , 0.        , 0.075     , 0.89      , 0.52714286],\n",
              "       [0.345     , 0.        , 0.21666667, 0.9       , 0.53285714]])"
            ]
          },
          "execution_count": 17,
          "metadata": {},
          "output_type": "execute_result"
        }
      ],
      "source": [
        "dataX = np.array(list(zip(df['기온'], df['운량'], df['풍속'], df['습도'], df['기압'])))\n",
        "dataX"
      ]
    },
    {
      "cell_type": "code",
      "execution_count": 18,
      "metadata": {
        "colab": {
          "base_uri": "https://localhost:8080/"
        },
        "id": "hSC0TTEbPbhk",
        "outputId": "a385a35c-b344-4fdb-9b71-cba6985d69d7"
      },
      "outputs": [
        {
          "data": {
            "text/plain": [
              "((8760, 5), (8760,))"
            ]
          },
          "execution_count": 18,
          "metadata": {},
          "output_type": "execute_result"
        }
      ],
      "source": [
        "dataX.shape, dataY.shape"
      ]
    },
    {
      "attachments": {},
      "cell_type": "markdown",
      "metadata": {
        "id": "eEI76pZ0Pbhk"
      },
      "source": [
        "이제 학습 고고씽"
      ]
    },
    {
      "cell_type": "code",
      "execution_count": 19,
      "metadata": {
        "id": "YB5fNB7MVqEp"
      },
      "outputs": [
        {
          "name": "stderr",
          "output_type": "stream",
          "text": [
            "c:\\Users\\th070\\AppData\\Local\\Programs\\Python\\Python310\\lib\\site-packages\\scipy\\__init__.py:177: UserWarning: A NumPy version >=1.18.5 and <1.26.0 is required for this version of SciPy (detected version 1.26.4\n",
            "  warnings.warn(f\"A NumPy version >={np_minversion} and <{np_maxversion}\"\n"
          ]
        }
      ],
      "source": [
        "from sklearn.model_selection import train_test_split\n",
        "\n",
        "trainX, testX, trainY, testY = train_test_split(dataX, dataY, test_size=0.2)\n"
      ]
    },
    {
      "cell_type": "code",
      "execution_count": 51,
      "metadata": {
        "id": "5L4PGu8EPbhk"
      },
      "outputs": [],
      "source": [
        "import tensorflow as tf"
      ]
    },
    {
      "cell_type": "code",
      "execution_count": 52,
      "metadata": {
        "id": "VtP2F6smPbhk"
      },
      "outputs": [
        {
          "name": "stderr",
          "output_type": "stream",
          "text": [
            "c:\\Users\\th070\\AppData\\Local\\Programs\\Python\\Python310\\lib\\site-packages\\keras\\src\\layers\\core\\dense.py:87: UserWarning: Do not pass an `input_shape`/`input_dim` argument to a layer. When using Sequential models, prefer using an `Input(shape)` object as the first layer in the model instead.\n",
            "  super().__init__(activity_regularizer=activity_regularizer, **kwargs)\n"
          ]
        }
      ],
      "source": [
        "model = tf.keras.models.Sequential([\n",
        "\ttf.keras.layers.Dense(64, activation='relu', input_shape=(5,)),\n",
        "\ttf.keras.layers.Dense(128, activation='relu'),\n",
        "\ttf.keras.layers.Dense(256, activation='relu'),\n",
        "\ttf.keras.layers.Dense(512, activation='relu'),\n",
        "\ttf.keras.layers.Dense(1, activation='sigmoid'),\n",
        "])\n",
        "# model = tf.keras.Sequential([\n",
        "#   tf.keras.layers.Dense(1, activation='sigmoid', input_shape=(5,))  # 입력 특성 5개, 출력 1개 (운량 예측)\n",
        "# ])"
      ]
    },
    {
      "cell_type": "code",
      "execution_count": 53,
      "metadata": {
        "id": "L6EXILIjPbhl"
      },
      "outputs": [],
      "source": [
        "model.compile(optimizer='adam', loss='binary_crossentropy', metrics=['accuracy'])"
      ]
    },
    {
      "cell_type": "code",
      "execution_count": 54,
      "metadata": {
        "colab": {
          "base_uri": "https://localhost:8080/"
        },
        "id": "qKuUCeiaPbhl",
        "outputId": "b96f42b8-31b1-4cba-9918-efbe587a2857"
      },
      "outputs": [
        {
          "name": "stdout",
          "output_type": "stream",
          "text": [
            "Epoch 1/100\n",
            "\u001b[1m219/219\u001b[0m \u001b[32m━━━━━━━━━━━━━━━━━━━━\u001b[0m\u001b[37m\u001b[0m \u001b[1m3s\u001b[0m 5ms/step - accuracy: 0.9212 - loss: 0.2493 - val_accuracy: 0.9486 - val_loss: 0.1325\n",
            "Epoch 2/100\n",
            "\u001b[1m219/219\u001b[0m \u001b[32m━━━━━━━━━━━━━━━━━━━━\u001b[0m\u001b[37m\u001b[0m \u001b[1m1s\u001b[0m 4ms/step - accuracy: 0.9438 - loss: 0.1440 - val_accuracy: 0.9481 - val_loss: 0.1219\n",
            "Epoch 3/100\n",
            "\u001b[1m219/219\u001b[0m \u001b[32m━━━━━━━━━━━━━━━━━━━━\u001b[0m\u001b[37m\u001b[0m \u001b[1m1s\u001b[0m 4ms/step - accuracy: 0.9435 - loss: 0.1312 - val_accuracy: 0.9492 - val_loss: 0.1235\n",
            "Epoch 4/100\n",
            "\u001b[1m219/219\u001b[0m \u001b[32m━━━━━━━━━━━━━━━━━━━━\u001b[0m\u001b[37m\u001b[0m \u001b[1m1s\u001b[0m 4ms/step - accuracy: 0.9407 - loss: 0.1394 - val_accuracy: 0.9452 - val_loss: 0.1222\n",
            "Epoch 5/100\n",
            "\u001b[1m219/219\u001b[0m \u001b[32m━━━━━━━━━━━━━━━━━━━━\u001b[0m\u001b[37m\u001b[0m \u001b[1m1s\u001b[0m 3ms/step - accuracy: 0.9385 - loss: 0.1455 - val_accuracy: 0.9509 - val_loss: 0.1185\n",
            "Epoch 6/100\n",
            "\u001b[1m219/219\u001b[0m \u001b[32m━━━━━━━━━━━━━━━━━━━━\u001b[0m\u001b[37m\u001b[0m \u001b[1m1s\u001b[0m 4ms/step - accuracy: 0.9398 - loss: 0.1384 - val_accuracy: 0.9475 - val_loss: 0.1182\n",
            "Epoch 7/100\n",
            "\u001b[1m219/219\u001b[0m \u001b[32m━━━━━━━━━━━━━━━━━━━━\u001b[0m\u001b[37m\u001b[0m \u001b[1m1s\u001b[0m 4ms/step - accuracy: 0.9478 - loss: 0.1225 - val_accuracy: 0.9481 - val_loss: 0.1196\n",
            "Epoch 8/100\n",
            "\u001b[1m219/219\u001b[0m \u001b[32m━━━━━━━━━━━━━━━━━━━━\u001b[0m\u001b[37m\u001b[0m \u001b[1m1s\u001b[0m 4ms/step - accuracy: 0.9458 - loss: 0.1248 - val_accuracy: 0.9452 - val_loss: 0.1323\n",
            "Epoch 9/100\n",
            "\u001b[1m219/219\u001b[0m \u001b[32m━━━━━━━━━━━━━━━━━━━━\u001b[0m\u001b[37m\u001b[0m \u001b[1m1s\u001b[0m 4ms/step - accuracy: 0.9439 - loss: 0.1353 - val_accuracy: 0.9475 - val_loss: 0.1152\n",
            "Epoch 10/100\n",
            "\u001b[1m219/219\u001b[0m \u001b[32m━━━━━━━━━━━━━━━━━━━━\u001b[0m\u001b[37m\u001b[0m \u001b[1m1s\u001b[0m 4ms/step - accuracy: 0.9465 - loss: 0.1323 - val_accuracy: 0.9441 - val_loss: 0.1274\n",
            "Epoch 11/100\n",
            "\u001b[1m219/219\u001b[0m \u001b[32m━━━━━━━━━━━━━━━━━━━━\u001b[0m\u001b[37m\u001b[0m \u001b[1m1s\u001b[0m 3ms/step - accuracy: 0.9458 - loss: 0.1327 - val_accuracy: 0.9503 - val_loss: 0.1167\n",
            "Epoch 12/100\n",
            "\u001b[1m219/219\u001b[0m \u001b[32m━━━━━━━━━━━━━━━━━━━━\u001b[0m\u001b[37m\u001b[0m \u001b[1m1s\u001b[0m 4ms/step - accuracy: 0.9436 - loss: 0.1293 - val_accuracy: 0.9486 - val_loss: 0.1159\n",
            "Epoch 13/100\n",
            "\u001b[1m219/219\u001b[0m \u001b[32m━━━━━━━━━━━━━━━━━━━━\u001b[0m\u001b[37m\u001b[0m \u001b[1m1s\u001b[0m 3ms/step - accuracy: 0.9429 - loss: 0.1273 - val_accuracy: 0.9486 - val_loss: 0.1188\n",
            "Epoch 14/100\n",
            "\u001b[1m219/219\u001b[0m \u001b[32m━━━━━━━━━━━━━━━━━━━━\u001b[0m\u001b[37m\u001b[0m \u001b[1m1s\u001b[0m 4ms/step - accuracy: 0.9464 - loss: 0.1272 - val_accuracy: 0.9521 - val_loss: 0.1142\n",
            "Epoch 15/100\n",
            "\u001b[1m219/219\u001b[0m \u001b[32m━━━━━━━━━━━━━━━━━━━━\u001b[0m\u001b[37m\u001b[0m \u001b[1m1s\u001b[0m 3ms/step - accuracy: 0.9434 - loss: 0.1259 - val_accuracy: 0.9469 - val_loss: 0.1211\n",
            "Epoch 16/100\n",
            "\u001b[1m219/219\u001b[0m \u001b[32m━━━━━━━━━━━━━━━━━━━━\u001b[0m\u001b[37m\u001b[0m \u001b[1m1s\u001b[0m 4ms/step - accuracy: 0.9494 - loss: 0.1258 - val_accuracy: 0.9492 - val_loss: 0.1132\n",
            "Epoch 17/100\n",
            "\u001b[1m219/219\u001b[0m \u001b[32m━━━━━━━━━━━━━━━━━━━━\u001b[0m\u001b[37m\u001b[0m \u001b[1m1s\u001b[0m 4ms/step - accuracy: 0.9422 - loss: 0.1344 - val_accuracy: 0.9509 - val_loss: 0.1320\n",
            "Epoch 18/100\n",
            "\u001b[1m219/219\u001b[0m \u001b[32m━━━━━━━━━━━━━━━━━━━━\u001b[0m\u001b[37m\u001b[0m \u001b[1m1s\u001b[0m 4ms/step - accuracy: 0.9494 - loss: 0.1265 - val_accuracy: 0.9515 - val_loss: 0.1130\n",
            "Epoch 19/100\n",
            "\u001b[1m219/219\u001b[0m \u001b[32m━━━━━━━━━━━━━━━━━━━━\u001b[0m\u001b[37m\u001b[0m \u001b[1m1s\u001b[0m 3ms/step - accuracy: 0.9446 - loss: 0.1329 - val_accuracy: 0.9498 - val_loss: 0.1160\n",
            "Epoch 20/100\n",
            "\u001b[1m219/219\u001b[0m \u001b[32m━━━━━━━━━━━━━━━━━━━━\u001b[0m\u001b[37m\u001b[0m \u001b[1m1s\u001b[0m 4ms/step - accuracy: 0.9460 - loss: 0.1267 - val_accuracy: 0.9509 - val_loss: 0.1149\n",
            "Epoch 21/100\n",
            "\u001b[1m219/219\u001b[0m \u001b[32m━━━━━━━━━━━━━━━━━━━━\u001b[0m\u001b[37m\u001b[0m \u001b[1m1s\u001b[0m 4ms/step - accuracy: 0.9490 - loss: 0.1222 - val_accuracy: 0.9486 - val_loss: 0.1235\n",
            "Epoch 22/100\n",
            "\u001b[1m219/219\u001b[0m \u001b[32m━━━━━━━━━━━━━━━━━━━━\u001b[0m\u001b[37m\u001b[0m \u001b[1m1s\u001b[0m 3ms/step - accuracy: 0.9496 - loss: 0.1183 - val_accuracy: 0.9543 - val_loss: 0.1175\n",
            "Epoch 23/100\n",
            "\u001b[1m219/219\u001b[0m \u001b[32m━━━━━━━━━━━━━━━━━━━━\u001b[0m\u001b[37m\u001b[0m \u001b[1m1s\u001b[0m 4ms/step - accuracy: 0.9436 - loss: 0.1303 - val_accuracy: 0.9538 - val_loss: 0.1133\n",
            "Epoch 24/100\n",
            "\u001b[1m219/219\u001b[0m \u001b[32m━━━━━━━━━━━━━━━━━━━━\u001b[0m\u001b[37m\u001b[0m \u001b[1m1s\u001b[0m 4ms/step - accuracy: 0.9459 - loss: 0.1269 - val_accuracy: 0.9521 - val_loss: 0.1135\n",
            "Epoch 25/100\n",
            "\u001b[1m219/219\u001b[0m \u001b[32m━━━━━━━━━━━━━━━━━━━━\u001b[0m\u001b[37m\u001b[0m \u001b[1m1s\u001b[0m 4ms/step - accuracy: 0.9449 - loss: 0.1261 - val_accuracy: 0.9532 - val_loss: 0.1175\n",
            "Epoch 26/100\n",
            "\u001b[1m219/219\u001b[0m \u001b[32m━━━━━━━━━━━━━━━━━━━━\u001b[0m\u001b[37m\u001b[0m \u001b[1m1s\u001b[0m 4ms/step - accuracy: 0.9489 - loss: 0.1201 - val_accuracy: 0.9532 - val_loss: 0.1111\n",
            "Epoch 27/100\n",
            "\u001b[1m219/219\u001b[0m \u001b[32m━━━━━━━━━━━━━━━━━━━━\u001b[0m\u001b[37m\u001b[0m \u001b[1m1s\u001b[0m 4ms/step - accuracy: 0.9480 - loss: 0.1236 - val_accuracy: 0.9521 - val_loss: 0.1136\n",
            "Epoch 28/100\n",
            "\u001b[1m219/219\u001b[0m \u001b[32m━━━━━━━━━━━━━━━━━━━━\u001b[0m\u001b[37m\u001b[0m \u001b[1m1s\u001b[0m 4ms/step - accuracy: 0.9536 - loss: 0.1190 - val_accuracy: 0.9543 - val_loss: 0.1097\n",
            "Epoch 29/100\n",
            "\u001b[1m219/219\u001b[0m \u001b[32m━━━━━━━━━━━━━━━━━━━━\u001b[0m\u001b[37m\u001b[0m \u001b[1m1s\u001b[0m 4ms/step - accuracy: 0.9473 - loss: 0.1236 - val_accuracy: 0.9538 - val_loss: 0.1117\n",
            "Epoch 30/100\n",
            "\u001b[1m219/219\u001b[0m \u001b[32m━━━━━━━━━━━━━━━━━━━━\u001b[0m\u001b[37m\u001b[0m \u001b[1m1s\u001b[0m 4ms/step - accuracy: 0.9458 - loss: 0.1182 - val_accuracy: 0.9561 - val_loss: 0.1162\n",
            "Epoch 31/100\n",
            "\u001b[1m219/219\u001b[0m \u001b[32m━━━━━━━━━━━━━━━━━━━━\u001b[0m\u001b[37m\u001b[0m \u001b[1m1s\u001b[0m 4ms/step - accuracy: 0.9477 - loss: 0.1172 - val_accuracy: 0.9475 - val_loss: 0.1183\n",
            "Epoch 32/100\n",
            "\u001b[1m219/219\u001b[0m \u001b[32m━━━━━━━━━━━━━━━━━━━━\u001b[0m\u001b[37m\u001b[0m \u001b[1m1s\u001b[0m 4ms/step - accuracy: 0.9470 - loss: 0.1242 - val_accuracy: 0.9469 - val_loss: 0.1242\n",
            "Epoch 33/100\n",
            "\u001b[1m219/219\u001b[0m \u001b[32m━━━━━━━━━━━━━━━━━━━━\u001b[0m\u001b[37m\u001b[0m \u001b[1m1s\u001b[0m 5ms/step - accuracy: 0.9536 - loss: 0.1224 - val_accuracy: 0.9549 - val_loss: 0.1134\n",
            "Epoch 34/100\n",
            "\u001b[1m219/219\u001b[0m \u001b[32m━━━━━━━━━━━━━━━━━━━━\u001b[0m\u001b[37m\u001b[0m \u001b[1m1s\u001b[0m 4ms/step - accuracy: 0.9522 - loss: 0.1102 - val_accuracy: 0.9492 - val_loss: 0.1165\n",
            "Epoch 35/100\n",
            "\u001b[1m219/219\u001b[0m \u001b[32m━━━━━━━━━━━━━━━━━━━━\u001b[0m\u001b[37m\u001b[0m \u001b[1m1s\u001b[0m 4ms/step - accuracy: 0.9492 - loss: 0.1263 - val_accuracy: 0.9538 - val_loss: 0.1090\n",
            "Epoch 36/100\n",
            "\u001b[1m219/219\u001b[0m \u001b[32m━━━━━━━━━━━━━━━━━━━━\u001b[0m\u001b[37m\u001b[0m \u001b[1m1s\u001b[0m 4ms/step - accuracy: 0.9481 - loss: 0.1243 - val_accuracy: 0.9578 - val_loss: 0.1052\n",
            "Epoch 37/100\n",
            "\u001b[1m219/219\u001b[0m \u001b[32m━━━━━━━━━━━━━━━━━━━━\u001b[0m\u001b[37m\u001b[0m \u001b[1m1s\u001b[0m 4ms/step - accuracy: 0.9438 - loss: 0.1274 - val_accuracy: 0.9555 - val_loss: 0.1094\n",
            "Epoch 38/100\n",
            "\u001b[1m219/219\u001b[0m \u001b[32m━━━━━━━━━━━━━━━━━━━━\u001b[0m\u001b[37m\u001b[0m \u001b[1m1s\u001b[0m 4ms/step - accuracy: 0.9500 - loss: 0.1184 - val_accuracy: 0.9543 - val_loss: 0.1114\n",
            "Epoch 39/100\n",
            "\u001b[1m219/219\u001b[0m \u001b[32m━━━━━━━━━━━━━━━━━━━━\u001b[0m\u001b[37m\u001b[0m \u001b[1m1s\u001b[0m 4ms/step - accuracy: 0.9526 - loss: 0.1208 - val_accuracy: 0.9549 - val_loss: 0.1092\n",
            "Epoch 40/100\n",
            "\u001b[1m219/219\u001b[0m \u001b[32m━━━━━━━━━━━━━━━━━━━━\u001b[0m\u001b[37m\u001b[0m \u001b[1m1s\u001b[0m 4ms/step - accuracy: 0.9548 - loss: 0.1128 - val_accuracy: 0.9435 - val_loss: 0.1306\n",
            "Epoch 41/100\n",
            "\u001b[1m219/219\u001b[0m \u001b[32m━━━━━━━━━━━━━━━━━━━━\u001b[0m\u001b[37m\u001b[0m \u001b[1m1s\u001b[0m 4ms/step - accuracy: 0.9476 - loss: 0.1303 - val_accuracy: 0.9332 - val_loss: 0.1485\n",
            "Epoch 42/100\n",
            "\u001b[1m219/219\u001b[0m \u001b[32m━━━━━━━━━━━━━━━━━━━━\u001b[0m\u001b[37m\u001b[0m \u001b[1m1s\u001b[0m 4ms/step - accuracy: 0.9435 - loss: 0.1309 - val_accuracy: 0.9561 - val_loss: 0.1074\n",
            "Epoch 43/100\n",
            "\u001b[1m219/219\u001b[0m \u001b[32m━━━━━━━━━━━━━━━━━━━━\u001b[0m\u001b[37m\u001b[0m \u001b[1m1s\u001b[0m 4ms/step - accuracy: 0.9482 - loss: 0.1232 - val_accuracy: 0.9538 - val_loss: 0.1110\n",
            "Epoch 44/100\n",
            "\u001b[1m219/219\u001b[0m \u001b[32m━━━━━━━━━━━━━━━━━━━━\u001b[0m\u001b[37m\u001b[0m \u001b[1m1s\u001b[0m 5ms/step - accuracy: 0.9503 - loss: 0.1161 - val_accuracy: 0.9572 - val_loss: 0.1064\n",
            "Epoch 45/100\n",
            "\u001b[1m219/219\u001b[0m \u001b[32m━━━━━━━━━━━━━━━━━━━━\u001b[0m\u001b[37m\u001b[0m \u001b[1m1s\u001b[0m 4ms/step - accuracy: 0.9535 - loss: 0.1170 - val_accuracy: 0.9589 - val_loss: 0.1127\n",
            "Epoch 46/100\n",
            "\u001b[1m219/219\u001b[0m \u001b[32m━━━━━━━━━━━━━━━━━━━━\u001b[0m\u001b[37m\u001b[0m \u001b[1m1s\u001b[0m 4ms/step - accuracy: 0.9509 - loss: 0.1211 - val_accuracy: 0.9532 - val_loss: 0.1135\n",
            "Epoch 47/100\n",
            "\u001b[1m219/219\u001b[0m \u001b[32m━━━━━━━━━━━━━━━━━━━━\u001b[0m\u001b[37m\u001b[0m \u001b[1m1s\u001b[0m 4ms/step - accuracy: 0.9474 - loss: 0.1267 - val_accuracy: 0.9526 - val_loss: 0.1118\n",
            "Epoch 48/100\n",
            "\u001b[1m219/219\u001b[0m \u001b[32m━━━━━━━━━━━━━━━━━━━━\u001b[0m\u001b[37m\u001b[0m \u001b[1m1s\u001b[0m 4ms/step - accuracy: 0.9534 - loss: 0.1128 - val_accuracy: 0.9555 - val_loss: 0.1069\n",
            "Epoch 49/100\n",
            "\u001b[1m219/219\u001b[0m \u001b[32m━━━━━━━━━━━━━━━━━━━━\u001b[0m\u001b[37m\u001b[0m \u001b[1m1s\u001b[0m 4ms/step - accuracy: 0.9529 - loss: 0.1159 - val_accuracy: 0.9435 - val_loss: 0.1294\n",
            "Epoch 50/100\n",
            "\u001b[1m219/219\u001b[0m \u001b[32m━━━━━━━━━━━━━━━━━━━━\u001b[0m\u001b[37m\u001b[0m \u001b[1m1s\u001b[0m 4ms/step - accuracy: 0.9513 - loss: 0.1146 - val_accuracy: 0.9572 - val_loss: 0.1093\n",
            "Epoch 51/100\n",
            "\u001b[1m219/219\u001b[0m \u001b[32m━━━━━━━━━━━━━━━━━━━━\u001b[0m\u001b[37m\u001b[0m \u001b[1m1s\u001b[0m 4ms/step - accuracy: 0.9544 - loss: 0.1153 - val_accuracy: 0.9549 - val_loss: 0.1182\n",
            "Epoch 52/100\n",
            "\u001b[1m219/219\u001b[0m \u001b[32m━━━━━━━━━━━━━━━━━━━━\u001b[0m\u001b[37m\u001b[0m \u001b[1m1s\u001b[0m 4ms/step - accuracy: 0.9546 - loss: 0.1110 - val_accuracy: 0.9549 - val_loss: 0.1123\n",
            "Epoch 53/100\n",
            "\u001b[1m219/219\u001b[0m \u001b[32m━━━━━━━━━━━━━━━━━━━━\u001b[0m\u001b[37m\u001b[0m \u001b[1m1s\u001b[0m 4ms/step - accuracy: 0.9501 - loss: 0.1196 - val_accuracy: 0.9532 - val_loss: 0.1135\n",
            "Epoch 54/100\n",
            "\u001b[1m219/219\u001b[0m \u001b[32m━━━━━━━━━━━━━━━━━━━━\u001b[0m\u001b[37m\u001b[0m \u001b[1m1s\u001b[0m 4ms/step - accuracy: 0.9506 - loss: 0.1202 - val_accuracy: 0.9521 - val_loss: 0.1159\n",
            "Epoch 55/100\n",
            "\u001b[1m219/219\u001b[0m \u001b[32m━━━━━━━━━━━━━━━━━━━━\u001b[0m\u001b[37m\u001b[0m \u001b[1m1s\u001b[0m 4ms/step - accuracy: 0.9521 - loss: 0.1144 - val_accuracy: 0.9549 - val_loss: 0.1126\n",
            "Epoch 56/100\n",
            "\u001b[1m219/219\u001b[0m \u001b[32m━━━━━━━━━━━━━━━━━━━━\u001b[0m\u001b[37m\u001b[0m \u001b[1m1s\u001b[0m 4ms/step - accuracy: 0.9533 - loss: 0.1196 - val_accuracy: 0.9481 - val_loss: 0.1242\n",
            "Epoch 57/100\n",
            "\u001b[1m219/219\u001b[0m \u001b[32m━━━━━━━━━━━━━━━━━━━━\u001b[0m\u001b[37m\u001b[0m \u001b[1m1s\u001b[0m 4ms/step - accuracy: 0.9525 - loss: 0.1213 - val_accuracy: 0.9543 - val_loss: 0.1120\n",
            "Epoch 58/100\n",
            "\u001b[1m219/219\u001b[0m \u001b[32m━━━━━━━━━━━━━━━━━━━━\u001b[0m\u001b[37m\u001b[0m \u001b[1m1s\u001b[0m 4ms/step - accuracy: 0.9504 - loss: 0.1216 - val_accuracy: 0.9543 - val_loss: 0.1143\n",
            "Epoch 59/100\n",
            "\u001b[1m219/219\u001b[0m \u001b[32m━━━━━━━━━━━━━━━━━━━━\u001b[0m\u001b[37m\u001b[0m \u001b[1m1s\u001b[0m 4ms/step - accuracy: 0.9489 - loss: 0.1205 - val_accuracy: 0.9561 - val_loss: 0.1091\n",
            "Epoch 60/100\n",
            "\u001b[1m219/219\u001b[0m \u001b[32m━━━━━━━━━━━━━━━━━━━━\u001b[0m\u001b[37m\u001b[0m \u001b[1m1s\u001b[0m 4ms/step - accuracy: 0.9517 - loss: 0.1150 - val_accuracy: 0.9572 - val_loss: 0.1104\n",
            "Epoch 61/100\n",
            "\u001b[1m219/219\u001b[0m \u001b[32m━━━━━━━━━━━━━━━━━━━━\u001b[0m\u001b[37m\u001b[0m \u001b[1m1s\u001b[0m 4ms/step - accuracy: 0.9526 - loss: 0.1138 - val_accuracy: 0.9526 - val_loss: 0.1157\n",
            "Epoch 62/100\n",
            "\u001b[1m219/219\u001b[0m \u001b[32m━━━━━━━━━━━━━━━━━━━━\u001b[0m\u001b[37m\u001b[0m \u001b[1m1s\u001b[0m 4ms/step - accuracy: 0.9460 - loss: 0.1226 - val_accuracy: 0.9566 - val_loss: 0.1089\n",
            "Epoch 63/100\n",
            "\u001b[1m219/219\u001b[0m \u001b[32m━━━━━━━━━━━━━━━━━━━━\u001b[0m\u001b[37m\u001b[0m \u001b[1m1s\u001b[0m 4ms/step - accuracy: 0.9529 - loss: 0.1165 - val_accuracy: 0.9521 - val_loss: 0.1138\n",
            "Epoch 64/100\n",
            "\u001b[1m219/219\u001b[0m \u001b[32m━━━━━━━━━━━━━━━━━━━━\u001b[0m\u001b[37m\u001b[0m \u001b[1m1s\u001b[0m 4ms/step - accuracy: 0.9477 - loss: 0.1203 - val_accuracy: 0.9566 - val_loss: 0.1126\n",
            "Epoch 65/100\n",
            "\u001b[1m219/219\u001b[0m \u001b[32m━━━━━━━━━━━━━━━━━━━━\u001b[0m\u001b[37m\u001b[0m \u001b[1m1s\u001b[0m 4ms/step - accuracy: 0.9502 - loss: 0.1105 - val_accuracy: 0.9543 - val_loss: 0.1112\n",
            "Epoch 66/100\n",
            "\u001b[1m219/219\u001b[0m \u001b[32m━━━━━━━━━━━━━━━━━━━━\u001b[0m\u001b[37m\u001b[0m \u001b[1m1s\u001b[0m 4ms/step - accuracy: 0.9480 - loss: 0.1208 - val_accuracy: 0.9521 - val_loss: 0.1233\n",
            "Epoch 67/100\n",
            "\u001b[1m219/219\u001b[0m \u001b[32m━━━━━━━━━━━━━━━━━━━━\u001b[0m\u001b[37m\u001b[0m \u001b[1m1s\u001b[0m 4ms/step - accuracy: 0.9510 - loss: 0.1140 - val_accuracy: 0.9566 - val_loss: 0.1111\n",
            "Epoch 68/100\n",
            "\u001b[1m219/219\u001b[0m \u001b[32m━━━━━━━━━━━━━━━━━━━━\u001b[0m\u001b[37m\u001b[0m \u001b[1m1s\u001b[0m 4ms/step - accuracy: 0.9474 - loss: 0.1192 - val_accuracy: 0.9572 - val_loss: 0.1060\n",
            "Epoch 69/100\n",
            "\u001b[1m219/219\u001b[0m \u001b[32m━━━━━━━━━━━━━━━━━━━━\u001b[0m\u001b[37m\u001b[0m \u001b[1m1s\u001b[0m 4ms/step - accuracy: 0.9594 - loss: 0.1037 - val_accuracy: 0.9521 - val_loss: 0.1145\n",
            "Epoch 70/100\n",
            "\u001b[1m219/219\u001b[0m \u001b[32m━━━━━━━━━━━━━━━━━━━━\u001b[0m\u001b[37m\u001b[0m \u001b[1m1s\u001b[0m 4ms/step - accuracy: 0.9483 - loss: 0.1193 - val_accuracy: 0.9543 - val_loss: 0.1170\n",
            "Epoch 71/100\n"
          ]
        },
        {
          "ename": "KeyboardInterrupt",
          "evalue": "",
          "output_type": "error",
          "traceback": [
            "\u001b[1;31m---------------------------------------------------------------------------\u001b[0m",
            "\u001b[1;31mKeyboardInterrupt\u001b[0m                         Traceback (most recent call last)",
            "\u001b[1;32me:\\GithubProjects\\WeatherPredictionSDGS\\날씨분류.ipynb 셀 30\u001b[0m in \u001b[0;36m1\n\u001b[1;32m----> <a href='vscode-notebook-cell:/e%3A/GithubProjects/WeatherPredictionSDGS/%EB%82%A0%EC%94%A8%EB%B6%84%EB%A5%98.ipynb#X41sZmlsZQ%3D%3D?line=0'>1</a>\u001b[0m model\u001b[39m.\u001b[39;49mfit(trainX, trainY, epochs\u001b[39m=\u001b[39;49m\u001b[39m100\u001b[39;49m, validation_data\u001b[39m=\u001b[39;49m(testX, testY))\n",
            "File \u001b[1;32mc:\\Users\\th070\\AppData\\Local\\Programs\\Python\\Python310\\lib\\site-packages\\keras\\src\\utils\\traceback_utils.py:117\u001b[0m, in \u001b[0;36mfilter_traceback.<locals>.error_handler\u001b[1;34m(*args, **kwargs)\u001b[0m\n\u001b[0;32m    115\u001b[0m filtered_tb \u001b[39m=\u001b[39m \u001b[39mNone\u001b[39;00m\n\u001b[0;32m    116\u001b[0m \u001b[39mtry\u001b[39;00m:\n\u001b[1;32m--> 117\u001b[0m     \u001b[39mreturn\u001b[39;00m fn(\u001b[39m*\u001b[39margs, \u001b[39m*\u001b[39m\u001b[39m*\u001b[39mkwargs)\n\u001b[0;32m    118\u001b[0m \u001b[39mexcept\u001b[39;00m \u001b[39mException\u001b[39;00m \u001b[39mas\u001b[39;00m e:\n\u001b[0;32m    119\u001b[0m     filtered_tb \u001b[39m=\u001b[39m _process_traceback_frames(e\u001b[39m.\u001b[39m__traceback__)\n",
            "File \u001b[1;32mc:\\Users\\th070\\AppData\\Local\\Programs\\Python\\Python310\\lib\\site-packages\\keras\\src\\backend\\tensorflow\\trainer.py:317\u001b[0m, in \u001b[0;36mTensorFlowTrainer.fit\u001b[1;34m(self, x, y, batch_size, epochs, verbose, callbacks, validation_split, validation_data, shuffle, class_weight, sample_weight, initial_epoch, steps_per_epoch, validation_steps, validation_batch_size, validation_freq)\u001b[0m\n\u001b[0;32m    315\u001b[0m \u001b[39mwith\u001b[39;00m epoch_iterator\u001b[39m.\u001b[39mcatch_stop_iteration():\n\u001b[0;32m    316\u001b[0m     \u001b[39mfor\u001b[39;00m step, iterator \u001b[39min\u001b[39;00m epoch_iterator\u001b[39m.\u001b[39menumerate_epoch():\n\u001b[1;32m--> 317\u001b[0m         callbacks\u001b[39m.\u001b[39;49mon_train_batch_begin(step)\n\u001b[0;32m    318\u001b[0m         logs \u001b[39m=\u001b[39m \u001b[39mself\u001b[39m\u001b[39m.\u001b[39mtrain_function(iterator)\n\u001b[0;32m    319\u001b[0m         logs \u001b[39m=\u001b[39m \u001b[39mself\u001b[39m\u001b[39m.\u001b[39m_pythonify_logs(logs)\n",
            "File \u001b[1;32mc:\\Users\\th070\\AppData\\Local\\Programs\\Python\\Python310\\lib\\site-packages\\keras\\src\\callbacks\\callback_list.py:98\u001b[0m, in \u001b[0;36mCallbackList.on_train_batch_begin\u001b[1;34m(self, batch, logs)\u001b[0m\n\u001b[0;32m     95\u001b[0m     \u001b[39mfor\u001b[39;00m callback \u001b[39min\u001b[39;00m \u001b[39mself\u001b[39m\u001b[39m.\u001b[39mcallbacks:\n\u001b[0;32m     96\u001b[0m         callback\u001b[39m.\u001b[39mon_epoch_end(epoch, logs)\n\u001b[1;32m---> 98\u001b[0m \u001b[39mdef\u001b[39;00m \u001b[39mon_train_batch_begin\u001b[39m(\u001b[39mself\u001b[39m, batch, logs\u001b[39m=\u001b[39m\u001b[39mNone\u001b[39;00m):\n\u001b[0;32m     99\u001b[0m     logs \u001b[39m=\u001b[39m logs \u001b[39mor\u001b[39;00m {}\n\u001b[0;32m    100\u001b[0m     \u001b[39mfor\u001b[39;00m callback \u001b[39min\u001b[39;00m \u001b[39mself\u001b[39m\u001b[39m.\u001b[39mcallbacks:\n",
            "\u001b[1;31mKeyboardInterrupt\u001b[0m: "
          ]
        }
      ],
      "source": [
        "model.fit(trainX, trainY, epochs=100, validation_data=(testX, testY))"
      ]
    },
    {
      "cell_type": "code",
      "execution_count": 56,
      "metadata": {
        "colab": {
          "base_uri": "https://localhost:8080/"
        },
        "id": "1M3xP-RWWJbe",
        "outputId": "a6a61646-02dc-4b3a-9743-2a758f06ecc2"
      },
      "outputs": [
        {
          "name": "stdout",
          "output_type": "stream",
          "text": [
            "\u001b[1m55/55\u001b[0m \u001b[32m━━━━━━━━━━━━━━━━━━━━\u001b[0m\u001b[37m\u001b[0m \u001b[1m0s\u001b[0m 2ms/step - accuracy: 0.9587 - loss: 0.1229\n"
          ]
        },
        {
          "data": {
            "text/plain": [
              "[0.11701390147209167, 0.9543378949165344]"
            ]
          },
          "execution_count": 56,
          "metadata": {},
          "output_type": "execute_result"
        }
      ],
      "source": [
        "model.evaluate(testX, testY)"
      ]
    },
    {
      "cell_type": "code",
      "execution_count": 25,
      "metadata": {
        "colab": {
          "base_uri": "https://localhost:8080/"
        },
        "id": "ZkOOfYwYWQgp",
        "outputId": "af3ff6e0-be7b-4bc3-8ab7-bc47f1ab2ba7"
      },
      "outputs": [],
      "source": [
        "# import datetime\n",
        "# now = datetime.datetime.now()\n",
        "# model.save(f'/content/drive/MyDrive/sdgsmodels/weather_{now.strftime(\"%Y%m%d_%H%M%S\")}.h5')\n",
        "# model.save(f'E:\\GithubProjects\\WeatherPredictionSDGS\\models\\weathermodel_v1.h5')"
      ]
    },
    {
      "attachments": {},
      "cell_type": "markdown",
      "metadata": {},
      "source": [
        "RandomForest"
      ]
    },
    {
      "cell_type": "code",
      "execution_count": 57,
      "metadata": {},
      "outputs": [],
      "source": [
        "from sklearn.ensemble import RandomForestRegressor\n",
        "from sklearn.metrics import accuracy_score"
      ]
    },
    {
      "cell_type": "code",
      "execution_count": 58,
      "metadata": {},
      "outputs": [
        {
          "name": "stdout",
          "output_type": "stream",
          "text": [
            "95.662100456621%\n"
          ]
        }
      ],
      "source": [
        "model = RandomForestRegressor(n_estimators=200, random_state=42)\n",
        "model.fit(trainX, trainY)\n",
        "\n",
        "# 예측\n",
        "prediction = model.predict(testX)\n",
        "print(f\"{sum((prediction > 0.5) == (testY == 1)) / len(prediction) * 100}%\")"
      ]
    },
    {
      "cell_type": "code",
      "execution_count": 49,
      "metadata": {},
      "outputs": [
        {
          "name": "stdout",
          "output_type": "stream",
          "text": [
            "10 95.14840182648402%\n",
            "20 95.662100456621%\n",
            "30 95.60502283105022%\n",
            "40 95.37671232876713%\n",
            "50 95.77625570776256%\n",
            "60 95.83333333333334%\n",
            "70 95.662100456621%\n",
            "80 95.71917808219177%\n",
            "90 95.54794520547945%\n",
            "100 95.54794520547945%\n",
            "110 95.662100456621%\n",
            "120 95.60502283105022%\n",
            "130 95.60502283105022%\n",
            "140 95.71917808219177%\n",
            "150 95.662100456621%\n",
            "160 95.662100456621%\n",
            "170 95.71917808219177%\n",
            "180 95.71917808219177%\n",
            "190 95.71917808219177%\n",
            "200 95.662100456621%\n",
            "210 95.60502283105022%\n",
            "220 95.60502283105022%\n",
            "230 95.54794520547945%\n",
            "240 95.60502283105022%\n",
            "250 95.71917808219177%\n",
            "260 95.71917808219177%\n",
            "270 95.71917808219177%\n",
            "280 95.662100456621%\n",
            "290 95.77625570776256%\n"
          ]
        }
      ],
      "source": [
        "for n_esti in range(1, 30):\n",
        "\tmodel = RandomForestRegressor(n_estimators=n_esti * 10, random_state=42)\n",
        "\tmodel.fit(trainX, trainY)\n",
        "\n",
        "\t# 예측\n",
        "\tprediction = model.predict(testX)\n",
        "\tprint(f\"{n_esti * 10} {sum((prediction > 0.5) == (testY == 1)) / len(prediction) * 100}%\")"
      ]
    },
    {
      "attachments": {},
      "cell_type": "markdown",
      "metadata": {},
      "source": [
        "60일때 가장 정확도가 높다"
      ]
    },
    {
      "cell_type": "code",
      "execution_count": 59,
      "metadata": {},
      "outputs": [
        {
          "data": {
            "text/html": [
              "<style>#sk-container-id-1 {color: black;background-color: white;}#sk-container-id-1 pre{padding: 0;}#sk-container-id-1 div.sk-toggleable {background-color: white;}#sk-container-id-1 label.sk-toggleable__label {cursor: pointer;display: block;width: 100%;margin-bottom: 0;padding: 0.3em;box-sizing: border-box;text-align: center;}#sk-container-id-1 label.sk-toggleable__label-arrow:before {content: \"▸\";float: left;margin-right: 0.25em;color: #696969;}#sk-container-id-1 label.sk-toggleable__label-arrow:hover:before {color: black;}#sk-container-id-1 div.sk-estimator:hover label.sk-toggleable__label-arrow:before {color: black;}#sk-container-id-1 div.sk-toggleable__content {max-height: 0;max-width: 0;overflow: hidden;text-align: left;background-color: #f0f8ff;}#sk-container-id-1 div.sk-toggleable__content pre {margin: 0.2em;color: black;border-radius: 0.25em;background-color: #f0f8ff;}#sk-container-id-1 input.sk-toggleable__control:checked~div.sk-toggleable__content {max-height: 200px;max-width: 100%;overflow: auto;}#sk-container-id-1 input.sk-toggleable__control:checked~label.sk-toggleable__label-arrow:before {content: \"▾\";}#sk-container-id-1 div.sk-estimator input.sk-toggleable__control:checked~label.sk-toggleable__label {background-color: #d4ebff;}#sk-container-id-1 div.sk-label input.sk-toggleable__control:checked~label.sk-toggleable__label {background-color: #d4ebff;}#sk-container-id-1 input.sk-hidden--visually {border: 0;clip: rect(1px 1px 1px 1px);clip: rect(1px, 1px, 1px, 1px);height: 1px;margin: -1px;overflow: hidden;padding: 0;position: absolute;width: 1px;}#sk-container-id-1 div.sk-estimator {font-family: monospace;background-color: #f0f8ff;border: 1px dotted black;border-radius: 0.25em;box-sizing: border-box;margin-bottom: 0.5em;}#sk-container-id-1 div.sk-estimator:hover {background-color: #d4ebff;}#sk-container-id-1 div.sk-parallel-item::after {content: \"\";width: 100%;border-bottom: 1px solid gray;flex-grow: 1;}#sk-container-id-1 div.sk-label:hover label.sk-toggleable__label {background-color: #d4ebff;}#sk-container-id-1 div.sk-serial::before {content: \"\";position: absolute;border-left: 1px solid gray;box-sizing: border-box;top: 0;bottom: 0;left: 50%;z-index: 0;}#sk-container-id-1 div.sk-serial {display: flex;flex-direction: column;align-items: center;background-color: white;padding-right: 0.2em;padding-left: 0.2em;position: relative;}#sk-container-id-1 div.sk-item {position: relative;z-index: 1;}#sk-container-id-1 div.sk-parallel {display: flex;align-items: stretch;justify-content: center;background-color: white;position: relative;}#sk-container-id-1 div.sk-item::before, #sk-container-id-1 div.sk-parallel-item::before {content: \"\";position: absolute;border-left: 1px solid gray;box-sizing: border-box;top: 0;bottom: 0;left: 50%;z-index: -1;}#sk-container-id-1 div.sk-parallel-item {display: flex;flex-direction: column;z-index: 1;position: relative;background-color: white;}#sk-container-id-1 div.sk-parallel-item:first-child::after {align-self: flex-end;width: 50%;}#sk-container-id-1 div.sk-parallel-item:last-child::after {align-self: flex-start;width: 50%;}#sk-container-id-1 div.sk-parallel-item:only-child::after {width: 0;}#sk-container-id-1 div.sk-dashed-wrapped {border: 1px dashed gray;margin: 0 0.4em 0.5em 0.4em;box-sizing: border-box;padding-bottom: 0.4em;background-color: white;}#sk-container-id-1 div.sk-label label {font-family: monospace;font-weight: bold;display: inline-block;line-height: 1.2em;}#sk-container-id-1 div.sk-label-container {text-align: center;}#sk-container-id-1 div.sk-container {/* jupyter's `normalize.less` sets `[hidden] { display: none; }` but bootstrap.min.css set `[hidden] { display: none !important; }` so we also need the `!important` here to be able to override the default hidden behavior on the sphinx rendered scikit-learn.org. See: https://github.com/scikit-learn/scikit-learn/issues/21755 */display: inline-block !important;position: relative;}#sk-container-id-1 div.sk-text-repr-fallback {display: none;}</style><div id=\"sk-container-id-1\" class=\"sk-top-container\"><div class=\"sk-text-repr-fallback\"><pre>RandomForestRegressor(n_estimators=60, random_state=42)</pre><b>In a Jupyter environment, please rerun this cell to show the HTML representation or trust the notebook. <br />On GitHub, the HTML representation is unable to render, please try loading this page with nbviewer.org.</b></div><div class=\"sk-container\" hidden><div class=\"sk-item\"><div class=\"sk-estimator sk-toggleable\"><input class=\"sk-toggleable__control sk-hidden--visually\" id=\"sk-estimator-id-1\" type=\"checkbox\" checked><label for=\"sk-estimator-id-1\" class=\"sk-toggleable__label sk-toggleable__label-arrow\">RandomForestRegressor</label><div class=\"sk-toggleable__content\"><pre>RandomForestRegressor(n_estimators=60, random_state=42)</pre></div></div></div></div></div>"
            ],
            "text/plain": [
              "RandomForestRegressor(n_estimators=60, random_state=42)"
            ]
          },
          "execution_count": 59,
          "metadata": {},
          "output_type": "execute_result"
        }
      ],
      "source": [
        "model = RandomForestRegressor(n_estimators=60, random_state=42)\n",
        "model.fit(trainX, trainY)"
      ]
    }
  ],
  "metadata": {
    "accelerator": "GPU",
    "colab": {
      "gpuType": "T4",
      "provenance": []
    },
    "kernelspec": {
      "display_name": "Python 3",
      "name": "python3"
    },
    "language_info": {
      "codemirror_mode": {
        "name": "ipython",
        "version": 3
      },
      "file_extension": ".py",
      "mimetype": "text/x-python",
      "name": "python",
      "nbconvert_exporter": "python",
      "pygments_lexer": "ipython3",
      "version": "3.10.5"
    },
    "orig_nbformat": 4
  },
  "nbformat": 4,
  "nbformat_minor": 0
}
