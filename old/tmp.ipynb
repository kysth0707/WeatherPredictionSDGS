{
 "cells": [
  {
   "attachments": {},
   "cell_type": "markdown",
   "metadata": {},
   "source": [
    "- 강수량 / mm\n",
    "- 강수형태 / 비옴 : 1, 비안옴 : 0\n",
    "- 강수확률 / % step : 10\n",
    "- 기온 / 'C step : 1\n",
    "- 습도 / % step : 5\n",
    "- 풍속 / ms step 0.1\n",
    "- 하늘 상태 / 맑음(1), 구름많음(3), 흐림(4)"
   ]
  },
  {
   "attachments": {},
   "cell_type": "markdown",
   "metadata": {},
   "source": [
    "- 강수량 / mm step : 1 -> 그냥 int\n",
    "- 강수형태 / 비옴 : 1, 비안옴 : 0 -> 그냥 int\n",
    "- 강수확률 / % step : 10 -> 그냥 int\n",
    "- 기온 / 'C step : 1 -> 그냥 int\n",
    "- 습도 / % step : 5 -> 그냥 int\n",
    "- 풍속 / ms step 0.1 -> X 10 하고 int\n",
    "- 하늘 상태 / 맑음(1), 구름많음(3), 흐림(4) -> 그냥 int"
   ]
  },
  {
   "cell_type": "code",
   "execution_count": 35,
   "metadata": {},
   "outputs": [],
   "source": [
    "import numpy as np\n",
    "import os"
   ]
  },
  {
   "cell_type": "code",
   "execution_count": 3,
   "metadata": {},
   "outputs": [],
   "source": [
    "filePaths = {\n",
    "\tfileName.split('.')[0] : f\"datasets/{fileName}\" for fileName in os.listdir('datasets')\n",
    "}"
   ]
  },
  {
   "cell_type": "code",
   "execution_count": 6,
   "metadata": {},
   "outputs": [
    {
     "name": "stdout",
     "output_type": "stream",
     "text": [
      "datasets/강수량.csv : 573831\n",
      "datasets/강수형태.csv : 573831\n",
      "datasets/강수확률.csv : 573831\n",
      "datasets/기온.csv : 572304\n",
      "datasets/습도.csv : 573831\n",
      "datasets/풍속.csv : 573831\n",
      "datasets/하늘상태.csv : 573831\n"
     ]
    }
   ],
   "source": [
    "for path in filePaths.values():\n",
    "\twith open(path) as f:\n",
    "\t\tprint(f\"{path} : {len(f.readlines())}\")"
   ]
  },
  {
   "attachments": {},
   "cell_type": "markdown",
   "metadata": {},
   "source": [
    "기온에 missing data"
   ]
  },
  {
   "cell_type": "code",
   "execution_count": 53,
   "metadata": {},
   "outputs": [],
   "source": [
    "rawData_SkyStatus = []\n",
    "with open(filePaths['하늘상태']) as f:\n",
    "\trawData_SkyStatus = list(map(lambda x : x.rstrip().lstrip().split(','), f.readlines()))"
   ]
  },
  {
   "cell_type": "code",
   "execution_count": 54,
   "metadata": {},
   "outputs": [
    {
     "data": {
      "text/plain": [
       "[['format: day',\n",
       "  'hour',\n",
       "  'forecast',\n",
       "  'value  location:55_123 Start : 20210629'],\n",
       " ['29', '1700', '+6', '4.000000'],\n",
       " ['29', '1700', '+7', '4.000000'],\n",
       " ['29', '1700', '+8', '3.000000'],\n",
       " ['29', '1700', '+9', '3.000000']]"
      ]
     },
     "execution_count": 54,
     "metadata": {},
     "output_type": "execute_result"
    }
   ],
   "source": [
    "rawData_SkyStatus[:5]"
   ]
  },
  {
   "cell_type": "code",
   "execution_count": 77,
   "metadata": {},
   "outputs": [],
   "source": [
    "data_SkyStatus = []\n",
    "lastStart = 1\n",
    "for i, objs in enumerate(rawData_SkyStatus[:-1]):\n",
    "\tif objs[0][:5] == \"Start\":\n",
    "\t\tdata_SkyStatus.append(list(map(lambda x : list(map(lambda k : int(float(k)), x)), rawData_SkyStatus[lastStart:i])))\n",
    "\t\tlastStart = i+1\n",
    "del data_SkyStatus[0]\n",
    "# 0번째 데이터는 개수가 안 맞음\n",
    "\n",
    "data_SkyStatus = np.array(data_SkyStatus, dtype=np.uint8)"
   ]
  },
  {
   "cell_type": "code",
   "execution_count": 78,
   "metadata": {},
   "outputs": [
    {
     "data": {
      "text/plain": [
       "array([[[ 30, 200,   6,   3],\n",
       "        [ 30, 200,   7,   3],\n",
       "        [ 30, 200,   8,   3],\n",
       "        ...,\n",
       "        [ 30, 252,  62,   4],\n",
       "        [ 30, 252,  63,   4],\n",
       "        [ 30, 252,  64,   4]],\n",
       "\n",
       "       [[  1, 200,   6,   1],\n",
       "        [  1, 200,   7,   1],\n",
       "        [  1, 200,   8,   1],\n",
       "        ...,\n",
       "        [  1, 252,  62,   1],\n",
       "        [  1, 252,  63,   1],\n",
       "        [  1, 252,  64,   1]],\n",
       "\n",
       "       [[  2, 200,   6,   3],\n",
       "        [  2, 200,   7,   3],\n",
       "        [  2, 200,   8,   3],\n",
       "        ...,\n",
       "        [  2, 252,  62,   1],\n",
       "        [  2, 252,  63,   3],\n",
       "        [  2, 252,  64,   4]],\n",
       "\n",
       "       ...,\n",
       "\n",
       "       [[ 27, 200,   6,   4],\n",
       "        [ 27, 200,   7,   4],\n",
       "        [ 27, 200,   8,   4],\n",
       "        ...,\n",
       "        [ 27, 252,  62,   3],\n",
       "        [ 27, 252,  63,   3],\n",
       "        [ 27, 252,  64,   1]],\n",
       "\n",
       "       [[ 28, 200,   6,   1],\n",
       "        [ 28, 200,   7,   1],\n",
       "        [ 28, 200,   8,   1],\n",
       "        ...,\n",
       "        [ 28, 252,  62,   1],\n",
       "        [ 28, 252,  63,   1],\n",
       "        [ 28, 252,  64,   1]],\n",
       "\n",
       "       [[ 29, 200,   6,   3],\n",
       "        [ 29, 200,   7,   4],\n",
       "        [ 29, 200,   8,   4],\n",
       "        ...,\n",
       "        [ 29, 252,  62,   3],\n",
       "        [ 29, 252,  63,   3],\n",
       "        [ 29, 252,  64,   3]]], dtype=uint8)"
      ]
     },
     "execution_count": 78,
     "metadata": {},
     "output_type": "execute_result"
    }
   ],
   "source": [
    "data_SkyStatus"
   ]
  },
  {
   "cell_type": "code",
   "execution_count": 79,
   "metadata": {},
   "outputs": [
    {
     "data": {
      "text/plain": [
       "(1126, 508, 4)"
      ]
     },
     "execution_count": 79,
     "metadata": {},
     "output_type": "execute_result"
    }
   ],
   "source": [
    "data_SkyStatus.shape"
   ]
  },
  {
   "cell_type": "code",
   "execution_count": 81,
   "metadata": {},
   "outputs": [],
   "source": [
    "def loadData(filePath : str, convertFunction):\n",
    "\trawData = []\n",
    "\twith open(filePath) as f:\n",
    "\t\trawData = list(map(lambda x : x.rstrip().lstrip().split(','), f.readlines()))\n",
    "\n",
    "\tdata = []\n",
    "\tlastStart = 1\n",
    "\tfor i, objs in enumerate(rawData[:-1]):\n",
    "\t\tif objs[0][:5] == \"Start\":\n",
    "\t\t\tdata.append(list(map(lambda x : list(map(convertFunction, x)), rawData[lastStart:i])))\n",
    "\t\t\tlastStart = i+1\n",
    "\tdel data[0]\n",
    "\t# 0번째 데이터는 개수가 안 맞음\n",
    "\n",
    "\treturn np.array(data, dtype=np.uint8)"
   ]
  },
  {
   "attachments": {},
   "cell_type": "markdown",
   "metadata": {},
   "source": [
    "어떤 기온 데이터가 빠진걸까?"
   ]
  },
  {
   "cell_type": "code",
   "execution_count": 88,
   "metadata": {},
   "outputs": [],
   "source": [
    "tmp = []\n",
    "with open(filePaths['기온']) as f:\n",
    "\ttmp = list(map(lambda x : x.rstrip().lstrip().split(','), f.readlines()))\n",
    "tempdate = []\n",
    "for i, objs in enumerate(tmp[:-1]):\n",
    "\tif objs[0][:5] == \"Start\":\n",
    "\t\ttempdate.append(objs[0][8:])"
   ]
  },
  {
   "cell_type": "code",
   "execution_count": 89,
   "metadata": {},
   "outputs": [],
   "source": [
    "tmp = []\n",
    "with open(filePaths['강수량']) as f:\n",
    "\ttmp = list(map(lambda x : x.rstrip().lstrip().split(','), f.readlines()))\n",
    "raindate = []\n",
    "for i, objs in enumerate(tmp[:-1]):\n",
    "\tif objs[0][:5] == \"Start\":\n",
    "\t\traindate.append(objs[0][8:])"
   ]
  },
  {
   "cell_type": "code",
   "execution_count": 91,
   "metadata": {},
   "outputs": [
    {
     "data": {
      "text/plain": [
       "{' 20220116', ' 20220202', ' 20220203'}"
      ]
     },
     "execution_count": 91,
     "metadata": {},
     "output_type": "execute_result"
    }
   ],
   "source": [
    "set(raindate) - set(tempdate)"
   ]
  },
  {
   "attachments": {},
   "cell_type": "markdown",
   "metadata": {},
   "source": [
    "이제 모든 데이터에서 저 날짜 데이터를 빼면 된다.\n",
    "- 숫자를 고치자"
   ]
  },
  {
   "attachments": {},
   "cell_type": "markdown",
   "metadata": {},
   "source": [
    "그러나 저 날짜는 데이터를 나누는 분기점이다. 따라서 +1일을 하고 그 날짜일때 전 데이터를 지워준다면 될 것이다."
   ]
  },
  {
   "attachments": {},
   "cell_type": "markdown",
   "metadata": {},
   "source": [
    "온도 데이터에는 이미 저 날짜들이 제외된 상태이니 arg를 추가해 조정하자"
   ]
  },
  {
   "attachments": {},
   "cell_type": "markdown",
   "metadata": {},
   "source": [
    "또한, 데이터의 value만 중요하므로 나머지 데이터를 버려주자"
   ]
  },
  {
   "cell_type": "code",
   "execution_count": 111,
   "metadata": {},
   "outputs": [],
   "source": [
    "def loadData(filePath : str, convertFunction = lambda x : int(float(x)), removeDate : bool = True):\n",
    "\trawData = []\n",
    "\twith open(filePath) as f:\n",
    "\t\trawData = list(map(lambda x : x.rstrip().lstrip().split(','), f.readlines()))\n",
    "\n",
    "\tdata = []\n",
    "\tlastStart = 1\n",
    "\tfor i, objs in enumerate(rawData[:-1]):\n",
    "\t\tif objs[0][:5] == \"Start\":\n",
    "\t\t\tif removeDate and (objs[0][8:] in ['20220117', '20220203', '20220204']):\n",
    "\t\t\t\tlastStart = i+1\n",
    "\t\t\telse:\n",
    "\t\t\t\tdata.append(list(map(lambda x : convertFunction(x[3]), rawData[lastStart:i])))\n",
    "\t\t\t\tlastStart = i+1\n",
    "\tdel data[0]\n",
    "\t# 0번째 데이터는 개수가 안 맞음\n",
    "\n",
    "\treturn np.array(data, dtype=np.int8)"
   ]
  },
  {
   "attachments": {},
   "cell_type": "markdown",
   "metadata": {},
   "source": [
    "- 풍속 / ms step 0.1 -> X 10 하고 int 를 생각하자"
   ]
  },
  {
   "cell_type": "code",
   "execution_count": 112,
   "metadata": {},
   "outputs": [
    {
     "name": "stdout",
     "output_type": "stream",
     "text": [
      "강수량 (1123, 508)\n",
      "강수형태 (1123, 508)\n",
      "강수확률 (1123, 508)\n",
      "기온 (1123, 508)\n",
      "습도 (1123, 508)\n",
      "풍속 (1123, 508)\n",
      "하늘상태 (1123, 508)\n"
     ]
    }
   ],
   "source": [
    "for key, value in filePaths.items():\n",
    "\tif key == '풍속':\n",
    "\t\tfunc = lambda x : int(float(x) * 10)\n",
    "\telse:\n",
    "\t\tfunc = lambda x : int(float(x))\n",
    "\tprint(f\"{key} {loadData(value, func, False if key == '기온' else True).shape}\")"
   ]
  }
 ],
 "metadata": {
  "kernelspec": {
   "display_name": "Python 3",
   "language": "python",
   "name": "python3"
  },
  "language_info": {
   "codemirror_mode": {
    "name": "ipython",
    "version": 3
   },
   "file_extension": ".py",
   "mimetype": "text/x-python",
   "name": "python",
   "nbconvert_exporter": "python",
   "pygments_lexer": "ipython3",
   "version": "3.10.5"
  },
  "orig_nbformat": 4
 },
 "nbformat": 4,
 "nbformat_minor": 2
}
