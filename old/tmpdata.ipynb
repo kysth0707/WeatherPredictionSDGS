{
 "cells": [
  {
   "cell_type": "code",
   "execution_count": 18,
   "metadata": {},
   "outputs": [],
   "source": [
    "data = ''\n",
    "with open('data.txt') as f:\n",
    "\tdata = f.readlines()[-2]"
   ]
  },
  {
   "cell_type": "code",
   "execution_count": 19,
   "metadata": {},
   "outputs": [
    {
     "data": {
      "text/plain": [
       "['20240801',\n",
       " '112',\n",
       " '-9.0',\n",
       " '-9',\n",
       " '20',\n",
       " '4.6',\n",
       " '949',\n",
       " '23',\n",
       " '7.6',\n",
       " '946',\n",
       " '-99.0',\n",
       " '31.6',\n",
       " '1550',\n",
       " '27.2',\n",
       " '250',\n",
       " '-99.0',\n",
       " '-99.0',\n",
       " '25.7',\n",
       " '-9.0',\n",
       " '75.0',\n",
       " '1527',\n",
       " '-9.0',\n",
       " '-9.0',\n",
       " '-9.0',\n",
       " '-9.00',\n",
       " '-9.0',\n",
       " '-9.0',\n",
       " '1006.2',\n",
       " '58',\n",
       " '1002.9',\n",
       " '1621',\n",
       " '-9.0',\n",
       " '-9.0',\n",
       " '14.1',\n",
       " '-9.0',\n",
       " '-9.00',\n",
       " '-9.00',\n",
       " '-9',\n",
       " '0.0',\n",
       " '-9.0',\n",
       " '-9.00',\n",
       " '-9.0',\n",
       " '-9',\n",
       " '-9.0',\n",
       " '-9',\n",
       " '-9.0',\n",
       " '-9',\n",
       " '-9.0',\n",
       " '-9',\n",
       " '-9.0',\n",
       " '-9',\n",
       " '26.3',\n",
       " '24.7',\n",
       " '22.4',\n",
       " '19.0',\n",
       " '15.3']"
      ]
     },
     "execution_count": 19,
     "metadata": {},
     "output_type": "execute_result"
    }
   ],
   "source": [
    "data = data.rstrip().split()\n",
    "data"
   ]
  },
  {
   "cell_type": "code",
   "execution_count": 20,
   "metadata": {},
   "outputs": [
    {
     "data": {
      "text/plain": [
       "'75.0'"
      ]
     },
     "execution_count": 20,
     "metadata": {},
     "output_type": "execute_result"
    }
   ],
   "source": [
    "data[19]"
   ]
  },
  {
   "cell_type": "code",
   "execution_count": 21,
   "metadata": {},
   "outputs": [
    {
     "data": {
      "text/plain": [
       "'75.0'"
      ]
     },
     "execution_count": 21,
     "metadata": {},
     "output_type": "execute_result"
    }
   ],
   "source": [
    "data[2] #풍속\n",
    "data[10] #기온\n",
    "data[19] #습도"
   ]
  }
 ],
 "metadata": {
  "kernelspec": {
   "display_name": "Python 3",
   "language": "python",
   "name": "python3"
  },
  "language_info": {
   "codemirror_mode": {
    "name": "ipython",
    "version": 3
   },
   "file_extension": ".py",
   "mimetype": "text/x-python",
   "name": "python",
   "nbconvert_exporter": "python",
   "pygments_lexer": "ipython3",
   "version": "3.10.5"
  },
  "orig_nbformat": 4
 },
 "nbformat": 4,
 "nbformat_minor": 2
}
