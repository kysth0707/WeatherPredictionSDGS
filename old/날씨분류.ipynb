{
 "cells": [
  {
   "attachments": {},
   "cell_type": "markdown",
   "metadata": {},
   "source": [
    "tmp.ipynb 에서 이어짐."
   ]
  },
  {
   "attachments": {},
   "cell_type": "markdown",
   "metadata": {},
   "source": [
    "- 강수량 / mm\n",
    "- 강수형태 / 비옴 : 1, 비안옴 : 0\n",
    "- 강수확률 / % step : 10\n",
    "- 기온 / 'C step : 1\n",
    "- 습도 / % step : 5\n",
    "- 풍속 / ms step 0.1\n",
    "- 하늘 상태 / 맑음(1), 구름많음(3), 흐림(4)"
   ]
  },
  {
   "attachments": {},
   "cell_type": "markdown",
   "metadata": {},
   "source": [
    "- 강수량 / mm step : 1 -> 그냥 int\n",
    "- 강수형태 / 비옴 : 1, 비안옴 : 0 -> 그냥 int\n",
    "- 강수확률 / % step : 10 -> 그냥 int\n",
    "- 기온 / 'C step : 1 -> 그냥 int\n",
    "- 습도 / % step : 5 -> 그냥 int\n",
    "- 풍속 / ms step 0.1 -> X 10 하고 int\n",
    "- 하늘 상태 / 맑음(1), 구름많음(3), 흐림(4) -> 그냥 int"
   ]
  },
  {
   "cell_type": "code",
   "execution_count": 4,
   "metadata": {},
   "outputs": [],
   "source": [
    "import os\n",
    "import numpy as np"
   ]
  },
  {
   "cell_type": "code",
   "execution_count": 5,
   "metadata": {},
   "outputs": [],
   "source": [
    "def loadData(filePath : str, convertFunction = lambda x : int(float(x)), removeDate : bool = True):\n",
    "\trawData = []\n",
    "\twith open(filePath) as f:\n",
    "\t\trawData = list(map(lambda x : x.rstrip().lstrip().split(','), f.readlines()))\n",
    "\n",
    "\tdata = []\n",
    "\tlastStart = 1\n",
    "\tfor i, objs in enumerate(rawData[:-1]):\n",
    "\t\tif objs[0][:5] == \"Start\":\n",
    "\t\t\tif removeDate and (objs[0][8:] in ['20220117', '20220203', '20220204']):\n",
    "\t\t\t\tlastStart = i+1\n",
    "\t\t\telse:\n",
    "\t\t\t\tdata.append(list(map(lambda x : convertFunction(x[3]), rawData[lastStart:i])))\n",
    "\t\t\t\tlastStart = i+1\n",
    "\tdel data[0]\n",
    "\t# 0번째 데이터는 개수가 안 맞음\n",
    "\n",
    "\treturn np.array(data, dtype=np.int8)"
   ]
  },
  {
   "cell_type": "code",
   "execution_count": 6,
   "metadata": {},
   "outputs": [],
   "source": [
    "filePaths = {\n",
    "\tfileName.split('.')[0] : f\"datasets/{fileName}\" for fileName in os.listdir('datasets')\n",
    "}"
   ]
  },
  {
   "cell_type": "code",
   "execution_count": 18,
   "metadata": {},
   "outputs": [
    {
     "name": "stdout",
     "output_type": "stream",
     "text": [
      "강수량 (1123, 508)\n",
      "강수형태 (1123, 508)\n",
      "강수확률 (1123, 508)\n",
      "기온 (1123, 508)\n",
      "습도 (1123, 508)\n",
      "풍속 (1123, 508)\n",
      "하늘상태 (1123, 508)\n"
     ]
    }
   ],
   "source": [
    "rawDataset = {}\n",
    "for key, value in filePaths.items():\n",
    "\tif key == '풍속':\n",
    "\t\tfunc = lambda x : int(float(x) * 10)\n",
    "\telse:\n",
    "\t\tfunc = lambda x : int(float(x))\n",
    "\n",
    "\tdata = loadData(value, func, False if key == '기온' else True)\n",
    "\trawDataset[key] = data\n",
    "\tprint(f\"{key} {data.shape}\")"
   ]
  },
  {
   "cell_type": "code",
   "execution_count": 19,
   "metadata": {},
   "outputs": [
    {
     "data": {
      "text/plain": [
       "array([[2, 0, 0, ..., 4, 6, 6],\n",
       "       [0, 0, 0, ..., 0, 0, 0],\n",
       "       [0, 0, 0, ..., 0, 0, 0],\n",
       "       ...,\n",
       "       [0, 0, 0, ..., 0, 0, 0],\n",
       "       [0, 0, 0, ..., 0, 0, 0],\n",
       "       [0, 0, 0, ..., 0, 0, 0]], dtype=int8)"
      ]
     },
     "execution_count": 19,
     "metadata": {},
     "output_type": "execute_result"
    }
   ],
   "source": [
    "rawDataset['강수량']"
   ]
  },
  {
   "attachments": {},
   "cell_type": "markdown",
   "metadata": {},
   "source": [
    "전처리"
   ]
  },
  {
   "attachments": {},
   "cell_type": "markdown",
   "metadata": {},
   "source": [
    "- 강수량 / 0 ~ 50 -> 0 ~ 1. => 얘를 쓸지 말지는 고민 일단은 안 씀\n",
    "- 강수형태 / 1, 0 => 얘가 DataY\n",
    "- 강수확률 / 0 ~ 1. => 얘도 고민 중 일단은 안 씀\n",
    "- 기온 / -20 ~ 40 -> 0 ~ 1.\n",
    "- 습도 / 0 ~ 100 -> 0 ~ 1.\n",
    "- 풍속 / 0 ~ 200(20m/s) -> 0 ~ 1.\n",
    "- 하늘 상태 / 맑음(1), 구름많음(3), 흐림(4) -> 맑 : 0, 구름 많, 흐림 : 1"
   ]
  },
  {
   "attachments": {},
   "cell_type": "markdown",
   "metadata": {},
   "source": [
    "### DataX\n",
    "- 기온 (-20 ~ 40 => 0 ~ 1.)\n",
    "- 습도 (0 ~ 100 => 0 ~ 1.)\n",
    "- 풍속 (0 ~ 200(20m/s) => 0 ~ 1.)\n",
    "- 하늘상태 (맑 : 0, 구름많 & 흐 : 1)\n",
    "\n",
    "### DataY\n",
    "- 강수형태"
   ]
  },
  {
   "cell_type": "code",
   "execution_count": 44,
   "metadata": {},
   "outputs": [
    {
     "data": {
      "text/plain": [
       "(35, -16)"
      ]
     },
     "execution_count": 44,
     "metadata": {},
     "output_type": "execute_result"
    }
   ],
   "source": [
    "max(rawDataset['기온'].flatten()), min(rawDataset['기온'].flatten())"
   ]
  },
  {
   "cell_type": "code",
   "execution_count": 20,
   "metadata": {},
   "outputs": [
    {
     "data": {
      "text/plain": [
       "50"
      ]
     },
     "execution_count": 20,
     "metadata": {},
     "output_type": "execute_result"
    }
   ],
   "source": [
    "max(rawDataset['강수량'].flatten())"
   ]
  },
  {
   "cell_type": "code",
   "execution_count": 26,
   "metadata": {},
   "outputs": [
    {
     "data": {
      "text/plain": [
       "127"
      ]
     },
     "execution_count": 26,
     "metadata": {},
     "output_type": "execute_result"
    }
   ],
   "source": [
    "max(rawDataset['풍속'].flatten())"
   ]
  },
  {
   "cell_type": "code",
   "execution_count": 46,
   "metadata": {},
   "outputs": [],
   "source": [
    "dataset = {}\n",
    "\n",
    "dataset['습도'] = rawDataset['습도'].flatten()/100\n",
    "dataset['풍속'] = rawDataset['풍속'].flatten()/200\n",
    "dataset['하늘상태'] = np.where(rawDataset['하늘상태'].flatten() == 1, 0, 1)\n",
    "dataset['기온'] = (rawDataset['기온'].flatten() + 20)/60"
   ]
  }
 ],
 "metadata": {
  "kernelspec": {
   "display_name": "Python 3",
   "language": "python",
   "name": "python3"
  },
  "language_info": {
   "codemirror_mode": {
    "name": "ipython",
    "version": 3
   },
   "file_extension": ".py",
   "mimetype": "text/x-python",
   "name": "python",
   "nbconvert_exporter": "python",
   "pygments_lexer": "ipython3",
   "version": "3.10.5"
  },
  "orig_nbformat": 4
 },
 "nbformat": 4,
 "nbformat_minor": 2
}
